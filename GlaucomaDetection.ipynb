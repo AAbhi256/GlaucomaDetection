{
  "nbformat": 4,
  "nbformat_minor": 0,
  "metadata": {
    "colab": {
      "name": "GlaucomaDetection.ipynb",
      "provenance": [],
      "collapsed_sections": []
    },
    "kernelspec": {
      "name": "python3",
      "display_name": "Python 3"
    },
    "accelerator": "GPU"
  },
  "cells": [
    {
      "cell_type": "code",
      "metadata": {
        "id": "_wstRED_3pSz",
        "colab_type": "code",
        "colab": {}
      },
      "source": [
        "# Code to read csv file into Colaboratory:!pip install -U -q PyDrive\n",
        "from pydrive.auth import GoogleAuth\n",
        "from pydrive.drive import GoogleDrive\n",
        "from google.colab import auth\n",
        "from oauth2client.client import GoogleCredentials# Authenticate and create the PyDrive client.\n",
        "auth.authenticate_user()\n",
        "gauth = GoogleAuth()\n",
        "gauth.credentials = GoogleCredentials.get_application_default()\n",
        "drive = GoogleDrive(gauth)"
      ],
      "execution_count": 1,
      "outputs": []
    },
    {
      "cell_type": "code",
      "metadata": {
        "id": "95-xMarO-DtD",
        "colab_type": "code",
        "colab": {
          "base_uri": "https://localhost:8080/",
          "height": 35
        },
        "outputId": "42102583-38a3-4798-9822-ed9b510a9112"
      },
      "source": [
        "from google.colab import drive\n",
        "drive.mount('/content/gdrive')"
      ],
      "execution_count": 2,
      "outputs": [
        {
          "output_type": "stream",
          "text": [
            "Mounted at /content/gdrive\n"
          ],
          "name": "stdout"
        }
      ]
    },
    {
      "cell_type": "code",
      "metadata": {
        "id": "cp9jvvJ7-iwe",
        "colab_type": "code",
        "colab": {
          "base_uri": "https://localhost:8080/",
          "height": 1000
        },
        "outputId": "94274831-13b9-49c4-d500-7e9dbd16f6b6"
      },
      "source": [
        "!unzip \"/content/gdrive/My Drive/Database.zip\""
      ],
      "execution_count": 3,
      "outputs": [
        {
          "output_type": "stream",
          "text": [
            "Archive:  /content/gdrive/My Drive/Database.zip\n",
            "   creating: Database/\n",
            "   creating: Database/Images/\n",
            "  inflating: Database/Images/Im001_ACRIMA.jpg  \n",
            "  inflating: Database/Images/Im002_ACRIMA.jpg  \n",
            "  inflating: Database/Images/Im003_ACRIMA.jpg  \n",
            "  inflating: Database/Images/Im004_ACRIMA.jpg  \n",
            "  inflating: Database/Images/Im005_ACRIMA.jpg  \n",
            "  inflating: Database/Images/Im006_ACRIMA.jpg  \n",
            "  inflating: Database/Images/Im007_ACRIMA.jpg  \n",
            "  inflating: Database/Images/Im008_ACRIMA.jpg  \n",
            "  inflating: Database/Images/Im009_ACRIMA.jpg  \n",
            "  inflating: Database/Images/Im010_ACRIMA.jpg  \n",
            "  inflating: Database/Images/Im011_ACRIMA.jpg  \n",
            "  inflating: Database/Images/Im012_ACRIMA.jpg  \n",
            "  inflating: Database/Images/Im013_ACRIMA.jpg  \n",
            "  inflating: Database/Images/Im014_ACRIMA.jpg  \n",
            "  inflating: Database/Images/Im015_ACRIMA.jpg  \n",
            "  inflating: Database/Images/Im016_ACRIMA.jpg  \n",
            "  inflating: Database/Images/Im017_ACRIMA.jpg  \n",
            "  inflating: Database/Images/Im018_ACRIMA.jpg  \n",
            "  inflating: Database/Images/Im019_ACRIMA.jpg  \n",
            "  inflating: Database/Images/Im020_ACRIMA.jpg  \n",
            "  inflating: Database/Images/Im021_ACRIMA.jpg  \n",
            "  inflating: Database/Images/Im022_ACRIMA.jpg  \n",
            "  inflating: Database/Images/Im023_ACRIMA.jpg  \n",
            "  inflating: Database/Images/Im024_ACRIMA.jpg  \n",
            "  inflating: Database/Images/Im025_ACRIMA.jpg  \n",
            "  inflating: Database/Images/Im026_ACRIMA.jpg  \n",
            "  inflating: Database/Images/Im027_ACRIMA.jpg  \n",
            "  inflating: Database/Images/Im028_ACRIMA.jpg  \n",
            "  inflating: Database/Images/Im029_ACRIMA.jpg  \n",
            "  inflating: Database/Images/Im030_ACRIMA.jpg  \n",
            "  inflating: Database/Images/Im031_ACRIMA.jpg  \n",
            "  inflating: Database/Images/Im032_ACRIMA.jpg  \n",
            "  inflating: Database/Images/Im033_ACRIMA.jpg  \n",
            "  inflating: Database/Images/Im034_ACRIMA.jpg  \n",
            "  inflating: Database/Images/Im035_ACRIMA.jpg  \n",
            "  inflating: Database/Images/Im036_ACRIMA.jpg  \n",
            "  inflating: Database/Images/Im037_ACRIMA.jpg  \n",
            "  inflating: Database/Images/Im038_ACRIMA.jpg  \n",
            "  inflating: Database/Images/Im039_ACRIMA.jpg  \n",
            "  inflating: Database/Images/Im040_ACRIMA.jpg  \n",
            "  inflating: Database/Images/Im041_ACRIMA.jpg  \n",
            "  inflating: Database/Images/Im042_ACRIMA.jpg  \n",
            "  inflating: Database/Images/Im043_ACRIMA.jpg  \n",
            "  inflating: Database/Images/Im044_ACRIMA.jpg  \n",
            "  inflating: Database/Images/Im045_ACRIMA.jpg  \n",
            "  inflating: Database/Images/Im046_ACRIMA.jpg  \n",
            "  inflating: Database/Images/Im047_ACRIMA.jpg  \n",
            "  inflating: Database/Images/Im048_ACRIMA.jpg  \n",
            "  inflating: Database/Images/Im049_ACRIMA.jpg  \n",
            "  inflating: Database/Images/Im050_ACRIMA.jpg  \n",
            "  inflating: Database/Images/Im051_ACRIMA.jpg  \n",
            "  inflating: Database/Images/Im052_ACRIMA.jpg  \n",
            "  inflating: Database/Images/Im053_ACRIMA.jpg  \n",
            "  inflating: Database/Images/Im054_ACRIMA.jpg  \n",
            "  inflating: Database/Images/Im055_ACRIMA.jpg  \n",
            "  inflating: Database/Images/Im056_ACRIMA.jpg  \n",
            "  inflating: Database/Images/Im057_ACRIMA.jpg  \n",
            "  inflating: Database/Images/Im058_ACRIMA.jpg  \n",
            "  inflating: Database/Images/Im059_ACRIMA.jpg  \n",
            "  inflating: Database/Images/Im060_ACRIMA.jpg  \n",
            "  inflating: Database/Images/Im061_ACRIMA.jpg  \n",
            "  inflating: Database/Images/Im062_ACRIMA.jpg  \n",
            "  inflating: Database/Images/Im063_ACRIMA.jpg  \n",
            "  inflating: Database/Images/Im064_ACRIMA.jpg  \n",
            "  inflating: Database/Images/Im065_ACRIMA.jpg  \n",
            "  inflating: Database/Images/Im066_ACRIMA.jpg  \n",
            "  inflating: Database/Images/Im067_ACRIMA.jpg  \n",
            "  inflating: Database/Images/Im068_ACRIMA.jpg  \n",
            "  inflating: Database/Images/Im069_ACRIMA.jpg  \n",
            "  inflating: Database/Images/Im070_ACRIMA.jpg  \n",
            "  inflating: Database/Images/Im071_ACRIMA.jpg  \n",
            "  inflating: Database/Images/Im072_ACRIMA.jpg  \n",
            "  inflating: Database/Images/Im073_ACRIMA.jpg  \n",
            "  inflating: Database/Images/Im074_ACRIMA.jpg  \n",
            "  inflating: Database/Images/Im075_ACRIMA.jpg  \n",
            "  inflating: Database/Images/Im076_ACRIMA.jpg  \n",
            "  inflating: Database/Images/Im077_ACRIMA.jpg  \n",
            "  inflating: Database/Images/Im078_ACRIMA.jpg  \n",
            "  inflating: Database/Images/Im079_ACRIMA.jpg  \n",
            "  inflating: Database/Images/Im080_ACRIMA.jpg  \n",
            "  inflating: Database/Images/Im081_ACRIMA.jpg  \n",
            "  inflating: Database/Images/Im082_ACRIMA.jpg  \n",
            "  inflating: Database/Images/Im083_ACRIMA.jpg  \n",
            "  inflating: Database/Images/Im084_ACRIMA.jpg  \n",
            "  inflating: Database/Images/Im085_ACRIMA.jpg  \n",
            "  inflating: Database/Images/Im086_ACRIMA.jpg  \n",
            "  inflating: Database/Images/Im087_ACRIMA.jpg  \n",
            "  inflating: Database/Images/Im088_ACRIMA.jpg  \n",
            "  inflating: Database/Images/Im089_ACRIMA.jpg  \n",
            "  inflating: Database/Images/Im090_ACRIMA.jpg  \n",
            "  inflating: Database/Images/Im091_ACRIMA.jpg  \n",
            "  inflating: Database/Images/Im092_ACRIMA.jpg  \n",
            "  inflating: Database/Images/Im093_ACRIMA.jpg  \n",
            "  inflating: Database/Images/Im094_ACRIMA.jpg  \n",
            "  inflating: Database/Images/Im095_ACRIMA.jpg  \n",
            "  inflating: Database/Images/Im096_ACRIMA.jpg  \n",
            "  inflating: Database/Images/Im097_ACRIMA.jpg  \n",
            "  inflating: Database/Images/Im098_ACRIMA.jpg  \n",
            "  inflating: Database/Images/Im099_ACRIMA.jpg  \n",
            "  inflating: Database/Images/Im100_ACRIMA.jpg  \n",
            "  inflating: Database/Images/Im101_ACRIMA.jpg  \n",
            "  inflating: Database/Images/Im102_ACRIMA.jpg  \n",
            "  inflating: Database/Images/Im103_ACRIMA.jpg  \n",
            "  inflating: Database/Images/Im104_ACRIMA.jpg  \n",
            "  inflating: Database/Images/Im105_ACRIMA.jpg  \n",
            "  inflating: Database/Images/Im106_ACRIMA.jpg  \n",
            "  inflating: Database/Images/Im107_ACRIMA.jpg  \n",
            "  inflating: Database/Images/Im108_ACRIMA.jpg  \n",
            "  inflating: Database/Images/Im109_ACRIMA.jpg  \n",
            "  inflating: Database/Images/Im110_ACRIMA.jpg  \n",
            "  inflating: Database/Images/Im111_ACRIMA.jpg  \n",
            "  inflating: Database/Images/Im112_ACRIMA.jpg  \n",
            "  inflating: Database/Images/Im113_ACRIMA.jpg  \n",
            "  inflating: Database/Images/Im114_ACRIMA.jpg  \n",
            "  inflating: Database/Images/Im115_ACRIMA.jpg  \n",
            "  inflating: Database/Images/Im116_ACRIMA.jpg  \n",
            "  inflating: Database/Images/Im117_ACRIMA.jpg  \n",
            "  inflating: Database/Images/Im118_ACRIMA.jpg  \n",
            "  inflating: Database/Images/Im119_ACRIMA.jpg  \n",
            "  inflating: Database/Images/Im120_ACRIMA.jpg  \n",
            "  inflating: Database/Images/Im121_ACRIMA.jpg  \n",
            "  inflating: Database/Images/Im122_ACRIMA.jpg  \n",
            "  inflating: Database/Images/Im123_ACRIMA.jpg  \n",
            "  inflating: Database/Images/Im124_ACRIMA.jpg  \n",
            "  inflating: Database/Images/Im125_ACRIMA.jpg  \n",
            "  inflating: Database/Images/Im126_ACRIMA.jpg  \n",
            "  inflating: Database/Images/Im127_ACRIMA.jpg  \n",
            "  inflating: Database/Images/Im128_ACRIMA.jpg  \n",
            "  inflating: Database/Images/Im129_ACRIMA.jpg  \n",
            "  inflating: Database/Images/Im130_ACRIMA.jpg  \n",
            "  inflating: Database/Images/Im131_ACRIMA.jpg  \n",
            "  inflating: Database/Images/Im132_ACRIMA.jpg  \n",
            "  inflating: Database/Images/Im133_ACRIMA.jpg  \n",
            "  inflating: Database/Images/Im134_ACRIMA.jpg  \n",
            "  inflating: Database/Images/Im135_ACRIMA.jpg  \n",
            "  inflating: Database/Images/Im136_ACRIMA.jpg  \n",
            "  inflating: Database/Images/Im137_ACRIMA.jpg  \n",
            "  inflating: Database/Images/Im138_ACRIMA.jpg  \n",
            "  inflating: Database/Images/Im139_ACRIMA.jpg  \n",
            "  inflating: Database/Images/Im140_ACRIMA.jpg  \n",
            "  inflating: Database/Images/Im141_ACRIMA.jpg  \n",
            "  inflating: Database/Images/Im142_ACRIMA.jpg  \n",
            "  inflating: Database/Images/Im143_ACRIMA.jpg  \n",
            "  inflating: Database/Images/Im144_ACRIMA.jpg  \n",
            "  inflating: Database/Images/Im145_ACRIMA.jpg  \n",
            "  inflating: Database/Images/Im146_ACRIMA.jpg  \n",
            "  inflating: Database/Images/Im147_ACRIMA.jpg  \n",
            "  inflating: Database/Images/Im148_ACRIMA.jpg  \n",
            "  inflating: Database/Images/Im149_ACRIMA.jpg  \n",
            "  inflating: Database/Images/Im150_ACRIMA.jpg  \n",
            "  inflating: Database/Images/Im151_ACRIMA.jpg  \n",
            "  inflating: Database/Images/Im152_ACRIMA.jpg  \n",
            "  inflating: Database/Images/Im153_ACRIMA.jpg  \n",
            "  inflating: Database/Images/Im154_ACRIMA.jpg  \n",
            "  inflating: Database/Images/Im155_ACRIMA.jpg  \n",
            "  inflating: Database/Images/Im156_ACRIMA.jpg  \n",
            "  inflating: Database/Images/Im157_ACRIMA.jpg  \n",
            "  inflating: Database/Images/Im158_ACRIMA.jpg  \n",
            "  inflating: Database/Images/Im159_ACRIMA.jpg  \n",
            "  inflating: Database/Images/Im160_ACRIMA.jpg  \n",
            "  inflating: Database/Images/Im161_ACRIMA.jpg  \n",
            "  inflating: Database/Images/Im162_ACRIMA.jpg  \n",
            "  inflating: Database/Images/Im163_ACRIMA.jpg  \n",
            "  inflating: Database/Images/Im164_ACRIMA.jpg  \n",
            "  inflating: Database/Images/Im165_ACRIMA.jpg  \n",
            "  inflating: Database/Images/Im166_ACRIMA.jpg  \n",
            "  inflating: Database/Images/Im167_ACRIMA.jpg  \n",
            "  inflating: Database/Images/Im168_ACRIMA.jpg  \n",
            "  inflating: Database/Images/Im169_ACRIMA.jpg  \n",
            "  inflating: Database/Images/Im170_ACRIMA.jpg  \n",
            "  inflating: Database/Images/Im171_ACRIMA.jpg  \n",
            "  inflating: Database/Images/Im172_ACRIMA.jpg  \n",
            "  inflating: Database/Images/Im173_ACRIMA.jpg  \n",
            "  inflating: Database/Images/Im174_ACRIMA.jpg  \n",
            "  inflating: Database/Images/Im175_ACRIMA.jpg  \n",
            "  inflating: Database/Images/Im176_ACRIMA.jpg  \n",
            "  inflating: Database/Images/Im177_ACRIMA.jpg  \n",
            "  inflating: Database/Images/Im178_ACRIMA.jpg  \n",
            "  inflating: Database/Images/Im179_ACRIMA.jpg  \n",
            "  inflating: Database/Images/Im180_ACRIMA.jpg  \n",
            "  inflating: Database/Images/Im181_ACRIMA.jpg  \n",
            "  inflating: Database/Images/Im182_ACRIMA.jpg  \n",
            "  inflating: Database/Images/Im183_ACRIMA.jpg  \n",
            "  inflating: Database/Images/Im184_ACRIMA.jpg  \n",
            "  inflating: Database/Images/Im185_ACRIMA.jpg  \n",
            "  inflating: Database/Images/Im186_ACRIMA.jpg  \n",
            "  inflating: Database/Images/Im187_ACRIMA.jpg  \n",
            "  inflating: Database/Images/Im188_ACRIMA.jpg  \n",
            "  inflating: Database/Images/Im189_ACRIMA.jpg  \n",
            "  inflating: Database/Images/Im190_ACRIMA.jpg  \n",
            "  inflating: Database/Images/Im191_ACRIMA.jpg  \n",
            "  inflating: Database/Images/Im192_ACRIMA.jpg  \n",
            "  inflating: Database/Images/Im193_ACRIMA.jpg  \n",
            "  inflating: Database/Images/Im194_ACRIMA.jpg  \n",
            "  inflating: Database/Images/Im195_ACRIMA.jpg  \n",
            "  inflating: Database/Images/Im196_ACRIMA.jpg  \n",
            "  inflating: Database/Images/Im197_ACRIMA.jpg  \n",
            "  inflating: Database/Images/Im198_ACRIMA.jpg  \n",
            "  inflating: Database/Images/Im199_ACRIMA.jpg  \n",
            "  inflating: Database/Images/Im200_ACRIMA.jpg  \n",
            "  inflating: Database/Images/Im201_ACRIMA.jpg  \n",
            "  inflating: Database/Images/Im202_ACRIMA.jpg  \n",
            "  inflating: Database/Images/Im203_ACRIMA.jpg  \n",
            "  inflating: Database/Images/Im204_ACRIMA.jpg  \n",
            "  inflating: Database/Images/Im205_ACRIMA.jpg  \n",
            "  inflating: Database/Images/Im206_ACRIMA.jpg  \n",
            "  inflating: Database/Images/Im207_ACRIMA.jpg  \n",
            "  inflating: Database/Images/Im208_ACRIMA.jpg  \n",
            "  inflating: Database/Images/Im209_ACRIMA.jpg  \n",
            "  inflating: Database/Images/Im210_ACRIMA.jpg  \n",
            "  inflating: Database/Images/Im211_ACRIMA.jpg  \n",
            "  inflating: Database/Images/Im212_ACRIMA.jpg  \n",
            "  inflating: Database/Images/Im213_ACRIMA.jpg  \n",
            "  inflating: Database/Images/Im214_ACRIMA.jpg  \n",
            "  inflating: Database/Images/Im215_ACRIMA.jpg  \n",
            "  inflating: Database/Images/Im216_ACRIMA.jpg  \n",
            "  inflating: Database/Images/Im217_ACRIMA.jpg  \n",
            "  inflating: Database/Images/Im218_ACRIMA.jpg  \n",
            "  inflating: Database/Images/Im219_ACRIMA.jpg  \n",
            "  inflating: Database/Images/Im220_ACRIMA.jpg  \n",
            "  inflating: Database/Images/Im221_ACRIMA.jpg  \n",
            "  inflating: Database/Images/Im222_ACRIMA.jpg  \n",
            "  inflating: Database/Images/Im223_ACRIMA.jpg  \n",
            "  inflating: Database/Images/Im224_ACRIMA.jpg  \n",
            "  inflating: Database/Images/Im225_ACRIMA.jpg  \n",
            "  inflating: Database/Images/Im226_ACRIMA.jpg  \n",
            "  inflating: Database/Images/Im227_ACRIMA.jpg  \n",
            "  inflating: Database/Images/Im228_ACRIMA.jpg  \n",
            "  inflating: Database/Images/Im229_ACRIMA.jpg  \n",
            "  inflating: Database/Images/Im230_ACRIMA.jpg  \n",
            "  inflating: Database/Images/Im231_ACRIMA.jpg  \n",
            "  inflating: Database/Images/Im232_ACRIMA.jpg  \n",
            "  inflating: Database/Images/Im233_ACRIMA.jpg  \n",
            "  inflating: Database/Images/Im234_ACRIMA.jpg  \n",
            "  inflating: Database/Images/Im235_ACRIMA.jpg  \n",
            "  inflating: Database/Images/Im236_ACRIMA.jpg  \n",
            "  inflating: Database/Images/Im237_ACRIMA.jpg  \n",
            "  inflating: Database/Images/Im238_ACRIMA.jpg  \n",
            "  inflating: Database/Images/Im239_ACRIMA.jpg  \n",
            "  inflating: Database/Images/Im240_ACRIMA.jpg  \n",
            "  inflating: Database/Images/Im241_ACRIMA.jpg  \n",
            "  inflating: Database/Images/Im242_ACRIMA.jpg  \n",
            "  inflating: Database/Images/Im243_ACRIMA.jpg  \n",
            "  inflating: Database/Images/Im244_ACRIMA.jpg  \n",
            "  inflating: Database/Images/Im245_ACRIMA.jpg  \n",
            "  inflating: Database/Images/Im246_ACRIMA.jpg  \n",
            "  inflating: Database/Images/Im247_ACRIMA.jpg  \n",
            "  inflating: Database/Images/Im248_ACRIMA.jpg  \n",
            "  inflating: Database/Images/Im249_ACRIMA.jpg  \n",
            "  inflating: Database/Images/Im250_ACRIMA.jpg  \n",
            "  inflating: Database/Images/Im251_ACRIMA.jpg  \n",
            "  inflating: Database/Images/Im252_ACRIMA.jpg  \n",
            "  inflating: Database/Images/Im253_ACRIMA.jpg  \n",
            "  inflating: Database/Images/Im254_ACRIMA.jpg  \n",
            "  inflating: Database/Images/Im255_ACRIMA.jpg  \n",
            "  inflating: Database/Images/Im256_ACRIMA.jpg  \n",
            "  inflating: Database/Images/Im257_ACRIMA.jpg  \n",
            "  inflating: Database/Images/Im258_ACRIMA.jpg  \n",
            "  inflating: Database/Images/Im259_ACRIMA.jpg  \n",
            "  inflating: Database/Images/Im260_ACRIMA.jpg  \n",
            "  inflating: Database/Images/Im261_ACRIMA.jpg  \n",
            "  inflating: Database/Images/Im262_ACRIMA.jpg  \n",
            "  inflating: Database/Images/Im263_ACRIMA.jpg  \n",
            "  inflating: Database/Images/Im264_ACRIMA.jpg  \n",
            "  inflating: Database/Images/Im265_ACRIMA.jpg  \n",
            "  inflating: Database/Images/Im266_ACRIMA.jpg  \n",
            "  inflating: Database/Images/Im267_ACRIMA.jpg  \n",
            "  inflating: Database/Images/Im268_ACRIMA.jpg  \n",
            "  inflating: Database/Images/Im269_ACRIMA.jpg  \n",
            "  inflating: Database/Images/Im270_ACRIMA.jpg  \n",
            "  inflating: Database/Images/Im271_ACRIMA.jpg  \n",
            "  inflating: Database/Images/Im272_ACRIMA.jpg  \n",
            "  inflating: Database/Images/Im273_ACRIMA.jpg  \n",
            "  inflating: Database/Images/Im274_ACRIMA.jpg  \n",
            "  inflating: Database/Images/Im275_ACRIMA.jpg  \n",
            "  inflating: Database/Images/Im276_ACRIMA.jpg  \n",
            "  inflating: Database/Images/Im277_ACRIMA.jpg  \n",
            "  inflating: Database/Images/Im278_ACRIMA.jpg  \n",
            "  inflating: Database/Images/Im279_ACRIMA.jpg  \n",
            "  inflating: Database/Images/Im280_ACRIMA.jpg  \n",
            "  inflating: Database/Images/Im281_ACRIMA.jpg  \n",
            "  inflating: Database/Images/Im282_ACRIMA.jpg  \n",
            "  inflating: Database/Images/Im283_ACRIMA.jpg  \n",
            "  inflating: Database/Images/Im284_ACRIMA.jpg  \n",
            "  inflating: Database/Images/Im285_ACRIMA.jpg  \n",
            "  inflating: Database/Images/Im286_ACRIMA.jpg  \n",
            "  inflating: Database/Images/Im287_ACRIMA.jpg  \n",
            "  inflating: Database/Images/Im288_ACRIMA.jpg  \n",
            "  inflating: Database/Images/Im289_ACRIMA.jpg  \n",
            "  inflating: Database/Images/Im290_ACRIMA.jpg  \n",
            "  inflating: Database/Images/Im291_ACRIMA.jpg  \n",
            "  inflating: Database/Images/Im292_ACRIMA.jpg  \n",
            "  inflating: Database/Images/Im293_ACRIMA.jpg  \n",
            "  inflating: Database/Images/Im294_ACRIMA.jpg  \n",
            "  inflating: Database/Images/Im295_ACRIMA.jpg  \n",
            "  inflating: Database/Images/Im296_ACRIMA.jpg  \n",
            "  inflating: Database/Images/Im297_ACRIMA.jpg  \n",
            "  inflating: Database/Images/Im298_ACRIMA.jpg  \n",
            "  inflating: Database/Images/Im299_ACRIMA.jpg  \n",
            "  inflating: Database/Images/Im300_ACRIMA.jpg  \n",
            "  inflating: Database/Images/Im301_ACRIMA.jpg  \n",
            "  inflating: Database/Images/Im302_ACRIMA.jpg  \n",
            "  inflating: Database/Images/Im303_ACRIMA.jpg  \n",
            "  inflating: Database/Images/Im304_ACRIMA.jpg  \n",
            "  inflating: Database/Images/Im305_ACRIMA.jpg  \n",
            "  inflating: Database/Images/Im306_ACRIMA.jpg  \n",
            "  inflating: Database/Images/Im307_ACRIMA.jpg  \n",
            "  inflating: Database/Images/Im308_ACRIMA.jpg  \n",
            "  inflating: Database/Images/Im309_ACRIMA.jpg  \n",
            "  inflating: Database/Images/Im310_g_ACRIMA.jpg  \n",
            "  inflating: Database/Images/Im311_g_ACRIMA.jpg  \n",
            "  inflating: Database/Images/Im312_g_ACRIMA.jpg  \n",
            "  inflating: Database/Images/Im313_g_ACRIMA.jpg  \n",
            "  inflating: Database/Images/Im314_g_ACRIMA.jpg  \n",
            "  inflating: Database/Images/Im315_g_ACRIMA.jpg  \n",
            "  inflating: Database/Images/Im316_g_ACRIMA.jpg  \n",
            "  inflating: Database/Images/Im317_g_ACRIMA.jpg  \n",
            "  inflating: Database/Images/Im318_g_ACRIMA.jpg  \n",
            "  inflating: Database/Images/Im319_g_ACRIMA.jpg  \n",
            "  inflating: Database/Images/Im320_g_ACRIMA.jpg  \n",
            "  inflating: Database/Images/Im321_g_ACRIMA.jpg  \n",
            "  inflating: Database/Images/Im322_g_ACRIMA.jpg  \n",
            "  inflating: Database/Images/Im323_g_ACRIMA.jpg  \n",
            "  inflating: Database/Images/Im324_g_ACRIMA.jpg  \n",
            "  inflating: Database/Images/Im325_g_ACRIMA.jpg  \n",
            "  inflating: Database/Images/Im326_g_ACRIMA.jpg  \n",
            "  inflating: Database/Images/Im327_g_ACRIMA.jpg  \n",
            "  inflating: Database/Images/Im328_g_ACRIMA.jpg  \n",
            "  inflating: Database/Images/Im329_g_ACRIMA.jpg  \n",
            "  inflating: Database/Images/Im330_g_ACRIMA.jpg  \n",
            "  inflating: Database/Images/Im331_g_ACRIMA.jpg  \n",
            "  inflating: Database/Images/Im332_g_ACRIMA.jpg  \n",
            "  inflating: Database/Images/Im333_g_ACRIMA.jpg  \n",
            "  inflating: Database/Images/Im334_g_ACRIMA.jpg  \n",
            "  inflating: Database/Images/Im335_g_ACRIMA.jpg  \n",
            "  inflating: Database/Images/Im336_g_ACRIMA.jpg  \n",
            "  inflating: Database/Images/Im337_g_ACRIMA.jpg  \n",
            "  inflating: Database/Images/Im338_g_ACRIMA.jpg  \n",
            "  inflating: Database/Images/Im339_g_ACRIMA.jpg  \n",
            "  inflating: Database/Images/Im340_g_ACRIMA.jpg  \n",
            "  inflating: Database/Images/Im341_g_ACRIMA.jpg  \n",
            "  inflating: Database/Images/Im342_g_ACRIMA.jpg  \n",
            "  inflating: Database/Images/Im343_g_ACRIMA.jpg  \n",
            "  inflating: Database/Images/Im344_g_ACRIMA.jpg  \n",
            "  inflating: Database/Images/Im345_g_ACRIMA.jpg  \n",
            "  inflating: Database/Images/Im346_g_ACRIMA.jpg  \n",
            "  inflating: Database/Images/Im347_g_ACRIMA.jpg  \n",
            "  inflating: Database/Images/Im348_g_ACRIMA.jpg  \n",
            "  inflating: Database/Images/Im349_g_ACRIMA.jpg  \n",
            "  inflating: Database/Images/Im350_g_ACRIMA.jpg  \n",
            "  inflating: Database/Images/Im351_g_ACRIMA.jpg  \n",
            "  inflating: Database/Images/Im352_g_ACRIMA.jpg  \n",
            "  inflating: Database/Images/Im353_g_ACRIMA.jpg  \n",
            "  inflating: Database/Images/Im354_g_ACRIMA.jpg  \n",
            "  inflating: Database/Images/Im355_g_ACRIMA.jpg  \n",
            "  inflating: Database/Images/Im356_g_ACRIMA.jpg  \n",
            "  inflating: Database/Images/Im357_g_ACRIMA.jpg  \n",
            "  inflating: Database/Images/Im358_g_ACRIMA.jpg  \n",
            "  inflating: Database/Images/Im359_g_ACRIMA.jpg  \n",
            "  inflating: Database/Images/Im360_g_ACRIMA.jpg  \n",
            "  inflating: Database/Images/Im361_g_ACRIMA.jpg  \n",
            "  inflating: Database/Images/Im362_g_ACRIMA.jpg  \n",
            "  inflating: Database/Images/Im363_g_ACRIMA.jpg  \n",
            "  inflating: Database/Images/Im364_g_ACRIMA.jpg  \n",
            "  inflating: Database/Images/Im365_g_ACRIMA.jpg  \n",
            "  inflating: Database/Images/Im366_g_ACRIMA.jpg  \n",
            "  inflating: Database/Images/Im367_g_ACRIMA.jpg  \n",
            "  inflating: Database/Images/Im368_g_ACRIMA.jpg  \n",
            "  inflating: Database/Images/Im369_g_ACRIMA.jpg  \n",
            "  inflating: Database/Images/Im370_g_ACRIMA.jpg  \n",
            "  inflating: Database/Images/Im371_g_ACRIMA.jpg  \n",
            "  inflating: Database/Images/Im372_g_ACRIMA.jpg  \n",
            "  inflating: Database/Images/Im373_g_ACRIMA.jpg  \n",
            "  inflating: Database/Images/Im374_g_ACRIMA.jpg  \n",
            "  inflating: Database/Images/Im375_g_ACRIMA.jpg  \n",
            "  inflating: Database/Images/Im376_g_ACRIMA.jpg  \n",
            "  inflating: Database/Images/Im377_g_ACRIMA.jpg  \n",
            "  inflating: Database/Images/Im378_g_ACRIMA.jpg  \n",
            "  inflating: Database/Images/Im379_g_ACRIMA.jpg  \n",
            "  inflating: Database/Images/Im380_g_ACRIMA.jpg  \n",
            "  inflating: Database/Images/Im381_g_ACRIMA.jpg  \n",
            "  inflating: Database/Images/Im382_g_ACRIMA.jpg  \n",
            "  inflating: Database/Images/Im383_g_ACRIMA.jpg  \n",
            "  inflating: Database/Images/Im384_g_ACRIMA.jpg  \n",
            "  inflating: Database/Images/Im385_g_ACRIMA.jpg  \n",
            "  inflating: Database/Images/Im386_g_ACRIMA.jpg  \n",
            "  inflating: Database/Images/Im387_g_ACRIMA.jpg  \n",
            "  inflating: Database/Images/Im388_g_ACRIMA.jpg  \n",
            "  inflating: Database/Images/Im389_g_ACRIMA.jpg  \n",
            "  inflating: Database/Images/Im390_g_ACRIMA.jpg  \n",
            "  inflating: Database/Images/Im391_g_ACRIMA.jpg  \n",
            "  inflating: Database/Images/Im392_g_ACRIMA.jpg  \n",
            "  inflating: Database/Images/Im393_g_ACRIMA.jpg  \n",
            "  inflating: Database/Images/Im394_g_ACRIMA.jpg  \n",
            "  inflating: Database/Images/Im395_g_ACRIMA.jpg  \n",
            "  inflating: Database/Images/Im396_g_ACRIMA.jpg  \n",
            "  inflating: Database/Images/Im397_g_ACRIMA.jpg  \n",
            "  inflating: Database/Images/Im398_g_ACRIMA.jpg  \n",
            "  inflating: Database/Images/Im399_g_ACRIMA.jpg  \n",
            "  inflating: Database/Images/Im400_g_ACRIMA.jpg  \n",
            "  inflating: Database/Images/Im401_g_ACRIMA.jpg  \n",
            "  inflating: Database/Images/Im402_g_ACRIMA.jpg  \n",
            "  inflating: Database/Images/Im403_g_ACRIMA.jpg  \n",
            "  inflating: Database/Images/Im404_g_ACRIMA.jpg  \n",
            "  inflating: Database/Images/Im405_g_ACRIMA.jpg  \n",
            "  inflating: Database/Images/Im406_g_ACRIMA.jpg  \n",
            "  inflating: Database/Images/Im407_g_ACRIMA.jpg  \n",
            "  inflating: Database/Images/Im408_g_ACRIMA.jpg  \n",
            "  inflating: Database/Images/Im409_g_ACRIMA.jpg  \n",
            "  inflating: Database/Images/Im410_g_ACRIMA.jpg  \n",
            "  inflating: Database/Images/Im411_g_ACRIMA.jpg  \n",
            "  inflating: Database/Images/Im412_g_ACRIMA.jpg  \n",
            "  inflating: Database/Images/Im413_g_ACRIMA.jpg  \n",
            "  inflating: Database/Images/Im414_g_ACRIMA.jpg  \n",
            "  inflating: Database/Images/Im415_g_ACRIMA.jpg  \n",
            "  inflating: Database/Images/Im416_g_ACRIMA.jpg  \n",
            "  inflating: Database/Images/Im417_g_ACRIMA.jpg  \n",
            "  inflating: Database/Images/Im418_g_ACRIMA.jpg  \n",
            "  inflating: Database/Images/Im419_g_ACRIMA.jpg  \n",
            "  inflating: Database/Images/Im420_g_ACRIMA.jpg  \n",
            "  inflating: Database/Images/Im421_g_ACRIMA.jpg  \n",
            "  inflating: Database/Images/Im422_g_ACRIMA.jpg  \n",
            "  inflating: Database/Images/Im423_g_ACRIMA.jpg  \n",
            "  inflating: Database/Images/Im424_g_ACRIMA.jpg  \n",
            "  inflating: Database/Images/Im425_g_ACRIMA.jpg  \n",
            "  inflating: Database/Images/Im426_g_ACRIMA.jpg  \n",
            "  inflating: Database/Images/Im427_g_ACRIMA.jpg  \n",
            "  inflating: Database/Images/Im428_g_ACRIMA.jpg  \n",
            "  inflating: Database/Images/Im429_g_ACRIMA.jpg  \n",
            "  inflating: Database/Images/Im430_g_ACRIMA.jpg  \n",
            "  inflating: Database/Images/Im431_g_ACRIMA.jpg  \n",
            "  inflating: Database/Images/Im432_g_ACRIMA.jpg  \n",
            "  inflating: Database/Images/Im433_g_ACRIMA.jpg  \n",
            "  inflating: Database/Images/Im434_g_ACRIMA.jpg  \n",
            "  inflating: Database/Images/Im435_g_ACRIMA.jpg  \n",
            "  inflating: Database/Images/Im436_g_ACRIMA.jpg  \n",
            "  inflating: Database/Images/Im437_g_ACRIMA.jpg  \n",
            "  inflating: Database/Images/Im438_g_ACRIMA.jpg  \n",
            "  inflating: Database/Images/Im439_g_ACRIMA.jpg  \n",
            "  inflating: Database/Images/Im440_g_ACRIMA.jpg  \n",
            "  inflating: Database/Images/Im441_g_ACRIMA.jpg  \n",
            "  inflating: Database/Images/Im442_g_ACRIMA.jpg  \n",
            "  inflating: Database/Images/Im443_g_ACRIMA.jpg  \n",
            "  inflating: Database/Images/Im444_g_ACRIMA.jpg  \n",
            "  inflating: Database/Images/Im445_g_ACRIMA.jpg  \n",
            "  inflating: Database/Images/Im446_g_ACRIMA.jpg  \n",
            "  inflating: Database/Images/Im447_g_ACRIMA.jpg  \n",
            "  inflating: Database/Images/Im448_g_ACRIMA.jpg  \n",
            "  inflating: Database/Images/Im449_g_ACRIMA.jpg  \n",
            "  inflating: Database/Images/Im450_g_ACRIMA.jpg  \n",
            "  inflating: Database/Images/Im451_g_ACRIMA.jpg  \n",
            "  inflating: Database/Images/Im452_g_ACRIMA.jpg  \n",
            "  inflating: Database/Images/Im453_g_ACRIMA.jpg  \n",
            "  inflating: Database/Images/Im454_g_ACRIMA.jpg  \n",
            "  inflating: Database/Images/Im455_g_ACRIMA.jpg  \n",
            "  inflating: Database/Images/Im456_g_ACRIMA.jpg  \n",
            "  inflating: Database/Images/Im457_g_ACRIMA.jpg  \n",
            "  inflating: Database/Images/Im458_g_ACRIMA.jpg  \n",
            "  inflating: Database/Images/Im459_g_ACRIMA.jpg  \n",
            "  inflating: Database/Images/Im460_g_ACRIMA.jpg  \n",
            "  inflating: Database/Images/Im461_g_ACRIMA.jpg  \n",
            "  inflating: Database/Images/Im462_g_ACRIMA.jpg  \n",
            "  inflating: Database/Images/Im463_g_ACRIMA.jpg  \n",
            "  inflating: Database/Images/Im464_g_ACRIMA.jpg  \n",
            "  inflating: Database/Images/Im465_g_ACRIMA.jpg  \n",
            "  inflating: Database/Images/Im466_g_ACRIMA.jpg  \n",
            "  inflating: Database/Images/Im467_g_ACRIMA.jpg  \n",
            "  inflating: Database/Images/Im468_g_ACRIMA.jpg  \n",
            "  inflating: Database/Images/Im469_g_ACRIMA.jpg  \n",
            "  inflating: Database/Images/Im470_g_ACRIMA.jpg  \n",
            "  inflating: Database/Images/Im471_g_ACRIMA.jpg  \n",
            "  inflating: Database/Images/Im472_g_ACRIMA.jpg  \n",
            "  inflating: Database/Images/Im473_g_ACRIMA.jpg  \n",
            "  inflating: Database/Images/Im474_g_ACRIMA.jpg  \n",
            "  inflating: Database/Images/Im475_g_ACRIMA.jpg  \n",
            "  inflating: Database/Images/Im476_g_ACRIMA.jpg  \n",
            "  inflating: Database/Images/Im477_g_ACRIMA.jpg  \n",
            "  inflating: Database/Images/Im478_g_ACRIMA.jpg  \n",
            "  inflating: Database/Images/Im479_g_ACRIMA.jpg  \n",
            "  inflating: Database/Images/Im480_g_ACRIMA.jpg  \n",
            "  inflating: Database/Images/Im481_g_ACRIMA.jpg  \n",
            "  inflating: Database/Images/Im482_g_ACRIMA.jpg  \n",
            "  inflating: Database/Images/Im483_g_ACRIMA.jpg  \n",
            "  inflating: Database/Images/Im484_g_ACRIMA.jpg  \n",
            "  inflating: Database/Images/Im485_g_ACRIMA.jpg  \n",
            "  inflating: Database/Images/Im486_g_ACRIMA.jpg  \n",
            "  inflating: Database/Images/Im487_g_ACRIMA.jpg  \n",
            "  inflating: Database/Images/Im488_g_ACRIMA.jpg  \n",
            "  inflating: Database/Images/Im489_g_ACRIMA.jpg  \n",
            "  inflating: Database/Images/Im490_g_ACRIMA.jpg  \n",
            "  inflating: Database/Images/Im491_g_ACRIMA.jpg  \n",
            "  inflating: Database/Images/Im492_g_ACRIMA.jpg  \n",
            "  inflating: Database/Images/Im493_g_ACRIMA.jpg  \n",
            "  inflating: Database/Images/Im494_g_ACRIMA.jpg  \n",
            "  inflating: Database/Images/Im495_g_ACRIMA.jpg  \n",
            "  inflating: Database/Images/Im496_g_ACRIMA.jpg  \n",
            "  inflating: Database/Images/Im497_g_ACRIMA.jpg  \n",
            "  inflating: Database/Images/Im498_g_ACRIMA.jpg  \n",
            "  inflating: Database/Images/Im499_g_ACRIMA.jpg  \n",
            "  inflating: Database/Images/Im500_g_ACRIMA.jpg  \n",
            "  inflating: Database/Images/Im501_g_ACRIMA.jpg  \n",
            "  inflating: Database/Images/Im502_g_ACRIMA.jpg  \n",
            "  inflating: Database/Images/Im503_g_ACRIMA.jpg  \n",
            "  inflating: Database/Images/Im504_g_ACRIMA.jpg  \n",
            "  inflating: Database/Images/Im505_g_ACRIMA.jpg  \n",
            "  inflating: Database/Images/Im506_g_ACRIMA.jpg  \n",
            "  inflating: Database/Images/Im507_g_ACRIMA.jpg  \n",
            "  inflating: Database/Images/Im508_g_ACRIMA.jpg  \n",
            "  inflating: Database/Images/Im509_g_ACRIMA.jpg  \n",
            "  inflating: Database/Images/Im510_g_ACRIMA.jpg  \n",
            "  inflating: Database/Images/Im511_g_ACRIMA.jpg  \n",
            "  inflating: Database/Images/Im512_g_ACRIMA.jpg  \n",
            "  inflating: Database/Images/Im513_g_ACRIMA.jpg  \n",
            "  inflating: Database/Images/Im514_g_ACRIMA.jpg  \n",
            "  inflating: Database/Images/Im515_g_ACRIMA.jpg  \n",
            "  inflating: Database/Images/Im516_g_ACRIMA.jpg  \n",
            "  inflating: Database/Images/Im517_g_ACRIMA.jpg  \n",
            "  inflating: Database/Images/Im518_g_ACRIMA.jpg  \n",
            "  inflating: Database/Images/Im519_g_ACRIMA.jpg  \n",
            "  inflating: Database/Images/Im520_g_ACRIMA.jpg  \n",
            "  inflating: Database/Images/Im521_g_ACRIMA.jpg  \n",
            "  inflating: Database/Images/Im522_g_ACRIMA.jpg  \n",
            "  inflating: Database/Images/Im523_g_ACRIMA.jpg  \n",
            "  inflating: Database/Images/Im524_g_ACRIMA.jpg  \n",
            "  inflating: Database/Images/Im525_g_ACRIMA.jpg  \n",
            "  inflating: Database/Images/Im526_g_ACRIMA.jpg  \n",
            "  inflating: Database/Images/Im527_g_ACRIMA.jpg  \n",
            "  inflating: Database/Images/Im528_g_ACRIMA.jpg  \n",
            "  inflating: Database/Images/Im529_g_ACRIMA.jpg  \n",
            "  inflating: Database/Images/Im530_g_ACRIMA.jpg  \n",
            "  inflating: Database/Images/Im531_g_ACRIMA.jpg  \n",
            "  inflating: Database/Images/Im532_g_ACRIMA.jpg  \n",
            "  inflating: Database/Images/Im533_g_ACRIMA.jpg  \n",
            "  inflating: Database/Images/Im534_g_ACRIMA.jpg  \n",
            "  inflating: Database/Images/Im535_g_ACRIMA.jpg  \n",
            "  inflating: Database/Images/Im536_g_ACRIMA.jpg  \n",
            "  inflating: Database/Images/Im537_g_ACRIMA.jpg  \n",
            "  inflating: Database/Images/Im538_g_ACRIMA.jpg  \n",
            "  inflating: Database/Images/Im539_g_ACRIMA.jpg  \n",
            "  inflating: Database/Images/Im540_g_ACRIMA.jpg  \n",
            "  inflating: Database/Images/Im541_g_ACRIMA.jpg  \n",
            "  inflating: Database/Images/Im542_g_ACRIMA.jpg  \n",
            "  inflating: Database/Images/Im543_g_ACRIMA.jpg  \n",
            "  inflating: Database/Images/Im544_g_ACRIMA.jpg  \n",
            "  inflating: Database/Images/Im545_g_ACRIMA.jpg  \n",
            "  inflating: Database/Images/Im546_g_ACRIMA.jpg  \n",
            "  inflating: Database/Images/Im547_g_ACRIMA.jpg  \n",
            "  inflating: Database/Images/Im548_g_ACRIMA.jpg  \n",
            "  inflating: Database/Images/Im549_g_ACRIMA.jpg  \n",
            "  inflating: Database/Images/Im550_g_ACRIMA.jpg  \n",
            "  inflating: Database/Images/Im551_g_ACRIMA.jpg  \n",
            "  inflating: Database/Images/Im552_g_ACRIMA.jpg  \n",
            "  inflating: Database/Images/Im553_g_ACRIMA.jpg  \n",
            "  inflating: Database/Images/Im554_g_ACRIMA.jpg  \n",
            "  inflating: Database/Images/Im555_g_ACRIMA.jpg  \n",
            "  inflating: Database/Images/Im556_g_ACRIMA.jpg  \n",
            "  inflating: Database/Images/Im557_g_ACRIMA.jpg  \n",
            "  inflating: Database/Images/Im558_g_ACRIMA.jpg  \n",
            "  inflating: Database/Images/Im559_g_ACRIMA.jpg  \n",
            "  inflating: Database/Images/Im560_g_ACRIMA.jpg  \n",
            "  inflating: Database/Images/Im561_g_ACRIMA.jpg  \n",
            "  inflating: Database/Images/Im562_g_ACRIMA.jpg  \n",
            "  inflating: Database/Images/Im563_g_ACRIMA.jpg  \n",
            "  inflating: Database/Images/Im564_g_ACRIMA.jpg  \n",
            "  inflating: Database/Images/Im565_g_ACRIMA.jpg  \n",
            "  inflating: Database/Images/Im566_g_ACRIMA.jpg  \n",
            "  inflating: Database/Images/Im567_g_ACRIMA.jpg  \n",
            "  inflating: Database/Images/Im568_g_ACRIMA.jpg  \n",
            "  inflating: Database/Images/Im569_g_ACRIMA.jpg  \n",
            "  inflating: Database/Images/Im570_g_ACRIMA.jpg  \n",
            "  inflating: Database/Images/Im571_g_ACRIMA.jpg  \n",
            "  inflating: Database/Images/Im572_g_ACRIMA.jpg  \n",
            "  inflating: Database/Images/Im573_g_ACRIMA.jpg  \n",
            "  inflating: Database/Images/Im574_g_ACRIMA.jpg  \n",
            "  inflating: Database/Images/Im575_g_ACRIMA.jpg  \n",
            "  inflating: Database/Images/Im576_g_ACRIMA.jpg  \n",
            "  inflating: Database/Images/Im577_g_ACRIMA.jpg  \n",
            "  inflating: Database/Images/Im578_g_ACRIMA.jpg  \n",
            "  inflating: Database/Images/Im579_g_ACRIMA.jpg  \n",
            "  inflating: Database/Images/Im580_g_ACRIMA.jpg  \n",
            "  inflating: Database/Images/Im581_g_ACRIMA.jpg  \n",
            "  inflating: Database/Images/Im582_g_ACRIMA.jpg  \n",
            "  inflating: Database/Images/Im583_g_ACRIMA.jpg  \n",
            "  inflating: Database/Images/Im584_g_ACRIMA.jpg  \n",
            "  inflating: Database/Images/Im585_g_ACRIMA.jpg  \n",
            "  inflating: Database/Images/Im586_g_ACRIMA.jpg  \n",
            "  inflating: Database/Images/Im587_g_ACRIMA.jpg  \n",
            "  inflating: Database/Images/Im588_g_ACRIMA.jpg  \n",
            "  inflating: Database/Images/Im589_g_ACRIMA.jpg  \n",
            "  inflating: Database/Images/Im590_g_ACRIMA.jpg  \n",
            "  inflating: Database/Images/Im591_g_ACRIMA.jpg  \n",
            "  inflating: Database/Images/Im592_g_ACRIMA.jpg  \n",
            "  inflating: Database/Images/Im593_g_ACRIMA.jpg  \n",
            "  inflating: Database/Images/Im594_g_ACRIMA.jpg  \n",
            "  inflating: Database/Images/Im595_g_ACRIMA.jpg  \n",
            "  inflating: Database/Images/Im596_g_ACRIMA.jpg  \n",
            "  inflating: Database/Images/Im597_g_ACRIMA.jpg  \n",
            "  inflating: Database/Images/Im598_g_ACRIMA.jpg  \n",
            "  inflating: Database/Images/Im599_g_ACRIMA.jpg  \n",
            "  inflating: Database/Images/Im600_g_ACRIMA.jpg  \n",
            "  inflating: Database/Images/Im601_g_ACRIMA.jpg  \n",
            "  inflating: Database/Images/Im602_g_ACRIMA.jpg  \n",
            "  inflating: Database/Images/Im603_g_ACRIMA.jpg  \n",
            "  inflating: Database/Images/Im604_g_ACRIMA.jpg  \n",
            "  inflating: Database/Images/Im605_g_ACRIMA.jpg  \n",
            "  inflating: Database/Images/Im606_g_ACRIMA.jpg  \n",
            "  inflating: Database/Images/Im607_g_ACRIMA.jpg  \n",
            "  inflating: Database/Images/Im608_g_ACRIMA.jpg  \n",
            "  inflating: Database/Images/Im609_g_ACRIMA.jpg  \n",
            "  inflating: Database/Images/Im610_g_ACRIMA.jpg  \n",
            "  inflating: Database/Images/Im611_g_ACRIMA.jpg  \n",
            "  inflating: Database/Images/Im612_g_ACRIMA.jpg  \n",
            "  inflating: Database/Images/Im613_g_ACRIMA.jpg  \n",
            "  inflating: Database/Images/Im614_g_ACRIMA.jpg  \n",
            "  inflating: Database/Images/Im615_g_ACRIMA.jpg  \n",
            "  inflating: Database/Images/Im616_g_ACRIMA.jpg  \n",
            "  inflating: Database/Images/Im617_g_ACRIMA.jpg  \n",
            "  inflating: Database/Images/Im618_g_ACRIMA.jpg  \n",
            "  inflating: Database/Images/Im619_g_ACRIMA.jpg  \n",
            "  inflating: Database/Images/Im620_g_ACRIMA.jpg  \n",
            "  inflating: Database/Images/Im621_g_ACRIMA.jpg  \n",
            "  inflating: Database/Images/Im622_g_ACRIMA.jpg  \n",
            "  inflating: Database/Images/Im623_g_ACRIMA.jpg  \n",
            "  inflating: Database/Images/Im624_g_ACRIMA.jpg  \n",
            "  inflating: Database/Images/Im625_g_ACRIMA.jpg  \n",
            "  inflating: Database/Images/Im626_g_ACRIMA.jpg  \n",
            "  inflating: Database/Images/Im627_g_ACRIMA.jpg  \n",
            "  inflating: Database/Images/Im628_g_ACRIMA.jpg  \n",
            "  inflating: Database/Images/Im629_g_ACRIMA.jpg  \n",
            "  inflating: Database/Images/Im630_g_ACRIMA.jpg  \n",
            "  inflating: Database/Images/Im631_g_ACRIMA.jpg  \n",
            "  inflating: Database/Images/Im632_g_ACRIMA.jpg  \n",
            "  inflating: Database/Images/Im633_g_ACRIMA.jpg  \n",
            "  inflating: Database/Images/Im634_g_ACRIMA.jpg  \n",
            "  inflating: Database/Images/Im635_g_ACRIMA.jpg  \n",
            "  inflating: Database/Images/Im636_g_ACRIMA.jpg  \n",
            "  inflating: Database/Images/Im637_g_ACRIMA.jpg  \n",
            "  inflating: Database/Images/Im638_g_ACRIMA.jpg  \n",
            "  inflating: Database/Images/Im639_g_ACRIMA.jpg  \n",
            "  inflating: Database/Images/Im640_g_ACRIMA.jpg  \n",
            "  inflating: Database/Images/Im641_g_ACRIMA.jpg  \n",
            "  inflating: Database/Images/Im642_g_ACRIMA.jpg  \n",
            "  inflating: Database/Images/Im643_g_ACRIMA.jpg  \n",
            "  inflating: Database/Images/Im644_g_ACRIMA.jpg  \n",
            "  inflating: Database/Images/Im645_g_ACRIMA.jpg  \n",
            "  inflating: Database/Images/Im646_g_ACRIMA.jpg  \n",
            "  inflating: Database/Images/Im647_g_ACRIMA.jpg  \n",
            "  inflating: Database/Images/Im648_g_ACRIMA.jpg  \n",
            "  inflating: Database/Images/Im649_g_ACRIMA.jpg  \n",
            "  inflating: Database/Images/Im650_g_ACRIMA.jpg  \n",
            "  inflating: Database/Images/Im651_g_ACRIMA.jpg  \n",
            "  inflating: Database/Images/Im652_g_ACRIMA.jpg  \n",
            "  inflating: Database/Images/Im653_g_ACRIMA.jpg  \n",
            "  inflating: Database/Images/Im654_g_ACRIMA.jpg  \n",
            "  inflating: Database/Images/Im655_g_ACRIMA.jpg  \n",
            "  inflating: Database/Images/Im656_g_ACRIMA.jpg  \n",
            "  inflating: Database/Images/Im657_g_ACRIMA.jpg  \n",
            "  inflating: Database/Images/Im658_g_ACRIMA.jpg  \n",
            "  inflating: Database/Images/Im659_g_ACRIMA.jpg  \n",
            "  inflating: Database/Images/Im660_g_ACRIMA.jpg  \n",
            "  inflating: Database/Images/Im661_g_ACRIMA.jpg  \n",
            "  inflating: Database/Images/Im662_g_ACRIMA.jpg  \n",
            "  inflating: Database/Images/Im663_g_ACRIMA.jpg  \n",
            "  inflating: Database/Images/Im664_g_ACRIMA.jpg  \n",
            "  inflating: Database/Images/Im665_g_ACRIMA.jpg  \n",
            "  inflating: Database/Images/Im666_g_ACRIMA.jpg  \n",
            "  inflating: Database/Images/Im667_g_ACRIMA.jpg  \n",
            "  inflating: Database/Images/Im668_g_ACRIMA.jpg  \n",
            "  inflating: Database/Images/Im669_g_ACRIMA.jpg  \n",
            "  inflating: Database/Images/Im670_g_ACRIMA.jpg  \n",
            "  inflating: Database/Images/Im671_g_ACRIMA.jpg  \n",
            "  inflating: Database/Images/Im672_g_ACRIMA.jpg  \n",
            "  inflating: Database/Images/Im673_g_ACRIMA.jpg  \n",
            "  inflating: Database/Images/Im674_g_ACRIMA.jpg  \n",
            "  inflating: Database/Images/Im675_g_ACRIMA.jpg  \n",
            "  inflating: Database/Images/Im676_g_ACRIMA.jpg  \n",
            "  inflating: Database/Images/Im677_g_ACRIMA.jpg  \n",
            "  inflating: Database/Images/Im678_g_ACRIMA.jpg  \n",
            "  inflating: Database/Images/Im679_g_ACRIMA.jpg  \n",
            "  inflating: Database/Images/Im680_g_ACRIMA.jpg  \n",
            "  inflating: Database/Images/Im681_g_ACRIMA.jpg  \n",
            "  inflating: Database/Images/Im682_g_ACRIMA.jpg  \n",
            "  inflating: Database/Images/Im683_g_ACRIMA.jpg  \n",
            "  inflating: Database/Images/Im684_g_ACRIMA.jpg  \n",
            "  inflating: Database/Images/Im685_g_ACRIMA.jpg  \n",
            "  inflating: Database/Images/Im686_g_ACRIMA.jpg  \n",
            "  inflating: Database/Images/Im687_g_ACRIMA.jpg  \n",
            "  inflating: Database/Images/Im688_g_ACRIMA.jpg  \n",
            "  inflating: Database/Images/Im689_g_ACRIMA.jpg  \n",
            "  inflating: Database/Images/Im690_g_ACRIMA.jpg  \n",
            "  inflating: Database/Images/Im691_g_ACRIMA.jpg  \n",
            "  inflating: Database/Images/Im692_g_ACRIMA.jpg  \n",
            "  inflating: Database/Images/Im693_g_ACRIMA.jpg  \n",
            "  inflating: Database/Images/Im694_g_ACRIMA.jpg  \n",
            "  inflating: Database/Images/Im695_g_ACRIMA.jpg  \n",
            "  inflating: Database/Images/Im696_g_ACRIMA.jpg  \n",
            "  inflating: Database/Images/Im697_g_ACRIMA.jpg  \n",
            "  inflating: Database/Images/Im698_g_ACRIMA.jpg  \n",
            "  inflating: Database/Images/Im699_g_ACRIMA.jpg  \n",
            "  inflating: Database/Images/Im700_g_ACRIMA.jpg  \n",
            "  inflating: Database/Images/Im701_g_ACRIMA.jpg  \n",
            "  inflating: Database/Images/Im702_g_ACRIMA.JPG  \n",
            "  inflating: Database/Images/Im703_g_ACRIMA.JPG  \n",
            "  inflating: Database/Images/Im704_g_ACRIMA.jpg  \n",
            "  inflating: Database/Images/Im705_g_ACRIMA.jpg  \n",
            "  inflating: Database/Readme.txt     \n"
          ],
          "name": "stdout"
        }
      ]
    },
    {
      "cell_type": "code",
      "metadata": {
        "id": "4KAdYZed-0GX",
        "colab_type": "code",
        "colab": {
          "base_uri": "https://localhost:8080/",
          "height": 1000
        },
        "outputId": "87853ad6-3d2d-466f-ce15-7208e540ccbf"
      },
      "source": [
        "!unzip \"/content/gdrive/My Drive/539922_986265_bundle_archive.zip\""
      ],
      "execution_count": 4,
      "outputs": [
        {
          "output_type": "stream",
          "text": [
            "Archive:  /content/gdrive/My Drive/539922_986265_bundle_archive.zip\n",
            "  inflating: Drishti-64x64/GRAY/Glaucoma/Im1.npy  \n",
            "  inflating: Drishti-64x64/GRAY/Glaucoma/Im10.npy  \n",
            "  inflating: Drishti-64x64/GRAY/Glaucoma/Im11.npy  \n",
            "  inflating: Drishti-64x64/GRAY/Glaucoma/Im12.npy  \n",
            "  inflating: Drishti-64x64/GRAY/Glaucoma/Im13.npy  \n",
            "  inflating: Drishti-64x64/GRAY/Glaucoma/Im14.npy  \n",
            "  inflating: Drishti-64x64/GRAY/Glaucoma/Im15.npy  \n",
            "  inflating: Drishti-64x64/GRAY/Glaucoma/Im16.npy  \n",
            "  inflating: Drishti-64x64/GRAY/Glaucoma/Im17.npy  \n",
            "  inflating: Drishti-64x64/GRAY/Glaucoma/Im18.npy  \n",
            "  inflating: Drishti-64x64/GRAY/Glaucoma/Im19.npy  \n",
            "  inflating: Drishti-64x64/GRAY/Glaucoma/Im2.npy  \n",
            "  inflating: Drishti-64x64/GRAY/Glaucoma/Im20.npy  \n",
            "  inflating: Drishti-64x64/GRAY/Glaucoma/Im21.npy  \n",
            "  inflating: Drishti-64x64/GRAY/Glaucoma/Im22.npy  \n",
            "  inflating: Drishti-64x64/GRAY/Glaucoma/Im23.npy  \n",
            "  inflating: Drishti-64x64/GRAY/Glaucoma/Im24.npy  \n",
            "  inflating: Drishti-64x64/GRAY/Glaucoma/Im25.npy  \n",
            "  inflating: Drishti-64x64/GRAY/Glaucoma/Im26.npy  \n",
            "  inflating: Drishti-64x64/GRAY/Glaucoma/Im27.npy  \n",
            "  inflating: Drishti-64x64/GRAY/Glaucoma/Im28.npy  \n",
            "  inflating: Drishti-64x64/GRAY/Glaucoma/Im29.npy  \n",
            "  inflating: Drishti-64x64/GRAY/Glaucoma/Im3.npy  \n",
            "  inflating: Drishti-64x64/GRAY/Glaucoma/Im30.npy  \n",
            "  inflating: Drishti-64x64/GRAY/Glaucoma/Im31.npy  \n",
            "  inflating: Drishti-64x64/GRAY/Glaucoma/Im32.npy  \n",
            "  inflating: Drishti-64x64/GRAY/Glaucoma/Im33.npy  \n",
            "  inflating: Drishti-64x64/GRAY/Glaucoma/Im34.npy  \n",
            "  inflating: Drishti-64x64/GRAY/Glaucoma/Im35.npy  \n",
            "  inflating: Drishti-64x64/GRAY/Glaucoma/Im36.npy  \n",
            "  inflating: Drishti-64x64/GRAY/Glaucoma/Im37.npy  \n",
            "  inflating: Drishti-64x64/GRAY/Glaucoma/Im38.npy  \n",
            "  inflating: Drishti-64x64/GRAY/Glaucoma/Im39.npy  \n",
            "  inflating: Drishti-64x64/GRAY/Glaucoma/Im4.npy  \n",
            "  inflating: Drishti-64x64/GRAY/Glaucoma/Im40.npy  \n",
            "  inflating: Drishti-64x64/GRAY/Glaucoma/Im41.npy  \n",
            "  inflating: Drishti-64x64/GRAY/Glaucoma/Im42.npy  \n",
            "  inflating: Drishti-64x64/GRAY/Glaucoma/Im43.npy  \n",
            "  inflating: Drishti-64x64/GRAY/Glaucoma/Im44.npy  \n",
            "  inflating: Drishti-64x64/GRAY/Glaucoma/Im45.npy  \n",
            "  inflating: Drishti-64x64/GRAY/Glaucoma/Im46.npy  \n",
            "  inflating: Drishti-64x64/GRAY/Glaucoma/Im47.npy  \n",
            "  inflating: Drishti-64x64/GRAY/Glaucoma/Im48.npy  \n",
            "  inflating: Drishti-64x64/GRAY/Glaucoma/Im49.npy  \n",
            "  inflating: Drishti-64x64/GRAY/Glaucoma/Im5.npy  \n",
            "  inflating: Drishti-64x64/GRAY/Glaucoma/Im50.npy  \n",
            "  inflating: Drishti-64x64/GRAY/Glaucoma/Im51.npy  \n",
            "  inflating: Drishti-64x64/GRAY/Glaucoma/Im52.npy  \n",
            "  inflating: Drishti-64x64/GRAY/Glaucoma/Im53.npy  \n",
            "  inflating: Drishti-64x64/GRAY/Glaucoma/Im54.npy  \n",
            "  inflating: Drishti-64x64/GRAY/Glaucoma/Im55.npy  \n",
            "  inflating: Drishti-64x64/GRAY/Glaucoma/Im56.npy  \n",
            "  inflating: Drishti-64x64/GRAY/Glaucoma/Im57.npy  \n",
            "  inflating: Drishti-64x64/GRAY/Glaucoma/Im58.npy  \n",
            "  inflating: Drishti-64x64/GRAY/Glaucoma/Im59.npy  \n",
            "  inflating: Drishti-64x64/GRAY/Glaucoma/Im6.npy  \n",
            "  inflating: Drishti-64x64/GRAY/Glaucoma/Im60.npy  \n",
            "  inflating: Drishti-64x64/GRAY/Glaucoma/Im61.npy  \n",
            "  inflating: Drishti-64x64/GRAY/Glaucoma/Im62.npy  \n",
            "  inflating: Drishti-64x64/GRAY/Glaucoma/Im63.npy  \n",
            "  inflating: Drishti-64x64/GRAY/Glaucoma/Im64.npy  \n",
            "  inflating: Drishti-64x64/GRAY/Glaucoma/Im65.npy  \n",
            "  inflating: Drishti-64x64/GRAY/Glaucoma/Im66.npy  \n",
            "  inflating: Drishti-64x64/GRAY/Glaucoma/Im67.npy  \n",
            "  inflating: Drishti-64x64/GRAY/Glaucoma/Im68.npy  \n",
            "  inflating: Drishti-64x64/GRAY/Glaucoma/Im69.npy  \n",
            "  inflating: Drishti-64x64/GRAY/Glaucoma/Im7.npy  \n",
            "  inflating: Drishti-64x64/GRAY/Glaucoma/Im70.npy  \n",
            "  inflating: Drishti-64x64/GRAY/Glaucoma/Im8.npy  \n",
            "  inflating: Drishti-64x64/GRAY/Glaucoma/Im9.npy  \n",
            "  inflating: Drishti-64x64/GRAY/Normal/Im1.npy  \n",
            "  inflating: Drishti-64x64/GRAY/Normal/Im10.npy  \n",
            "  inflating: Drishti-64x64/GRAY/Normal/Im11.npy  \n",
            "  inflating: Drishti-64x64/GRAY/Normal/Im12.npy  \n",
            "  inflating: Drishti-64x64/GRAY/Normal/Im13.npy  \n",
            "  inflating: Drishti-64x64/GRAY/Normal/Im14.npy  \n",
            "  inflating: Drishti-64x64/GRAY/Normal/Im15.npy  \n",
            "  inflating: Drishti-64x64/GRAY/Normal/Im16.npy  \n",
            "  inflating: Drishti-64x64/GRAY/Normal/Im17.npy  \n",
            "  inflating: Drishti-64x64/GRAY/Normal/Im18.npy  \n",
            "  inflating: Drishti-64x64/GRAY/Normal/Im19.npy  \n",
            "  inflating: Drishti-64x64/GRAY/Normal/Im2.npy  \n",
            "  inflating: Drishti-64x64/GRAY/Normal/Im20.npy  \n",
            "  inflating: Drishti-64x64/GRAY/Normal/Im21.npy  \n",
            "  inflating: Drishti-64x64/GRAY/Normal/Im22.npy  \n",
            "  inflating: Drishti-64x64/GRAY/Normal/Im23.npy  \n",
            "  inflating: Drishti-64x64/GRAY/Normal/Im24.npy  \n",
            "  inflating: Drishti-64x64/GRAY/Normal/Im25.npy  \n",
            "  inflating: Drishti-64x64/GRAY/Normal/Im26.npy  \n",
            "  inflating: Drishti-64x64/GRAY/Normal/Im27.npy  \n",
            "  inflating: Drishti-64x64/GRAY/Normal/Im28.npy  \n",
            "  inflating: Drishti-64x64/GRAY/Normal/Im29.npy  \n",
            "  inflating: Drishti-64x64/GRAY/Normal/Im3.npy  \n",
            "  inflating: Drishti-64x64/GRAY/Normal/Im30.npy  \n",
            "  inflating: Drishti-64x64/GRAY/Normal/Im31.npy  \n",
            "  inflating: Drishti-64x64/GRAY/Normal/Im4.npy  \n",
            "  inflating: Drishti-64x64/GRAY/Normal/Im5.npy  \n",
            "  inflating: Drishti-64x64/GRAY/Normal/Im6.npy  \n",
            "  inflating: Drishti-64x64/GRAY/Normal/Im7.npy  \n",
            "  inflating: Drishti-64x64/GRAY/Normal/Im8.npy  \n",
            "  inflating: Drishti-64x64/GRAY/Normal/Im9.npy  \n"
          ],
          "name": "stdout"
        }
      ]
    },
    {
      "cell_type": "code",
      "metadata": {
        "id": "tD7bDWyAjnao",
        "colab_type": "code",
        "colab": {
          "base_uri": "https://localhost:8080/",
          "height": 74
        },
        "outputId": "4d4e0385-6f1d-418f-bd99-628efcf423a8"
      },
      "source": [
        "import os \n",
        "import numpy as np\n",
        "import pandas as pd\n",
        "import matplotlib.pyplot as plt\n",
        "import seaborn as sns"
      ],
      "execution_count": 5,
      "outputs": [
        {
          "output_type": "stream",
          "text": [
            "/usr/local/lib/python3.6/dist-packages/statsmodels/tools/_testing.py:19: FutureWarning: pandas.util.testing is deprecated. Use the functions in the public API at pandas.testing instead.\n",
            "  import pandas.util.testing as tm\n"
          ],
          "name": "stderr"
        }
      ]
    },
    {
      "cell_type": "code",
      "metadata": {
        "id": "Jwb42RI7G_nI",
        "colab_type": "code",
        "colab": {
          "base_uri": "https://localhost:8080/",
          "height": 1000
        },
        "outputId": "060b9188-d193-4952-f627-2bfd6a449481"
      },
      "source": [
        "sorted(os.listdir('/content/Database/Images'))"
      ],
      "execution_count": 6,
      "outputs": [
        {
          "output_type": "execute_result",
          "data": {
            "text/plain": [
              "['Im001_ACRIMA.jpg',\n",
              " 'Im002_ACRIMA.jpg',\n",
              " 'Im003_ACRIMA.jpg',\n",
              " 'Im004_ACRIMA.jpg',\n",
              " 'Im005_ACRIMA.jpg',\n",
              " 'Im006_ACRIMA.jpg',\n",
              " 'Im007_ACRIMA.jpg',\n",
              " 'Im008_ACRIMA.jpg',\n",
              " 'Im009_ACRIMA.jpg',\n",
              " 'Im010_ACRIMA.jpg',\n",
              " 'Im011_ACRIMA.jpg',\n",
              " 'Im012_ACRIMA.jpg',\n",
              " 'Im013_ACRIMA.jpg',\n",
              " 'Im014_ACRIMA.jpg',\n",
              " 'Im015_ACRIMA.jpg',\n",
              " 'Im016_ACRIMA.jpg',\n",
              " 'Im017_ACRIMA.jpg',\n",
              " 'Im018_ACRIMA.jpg',\n",
              " 'Im019_ACRIMA.jpg',\n",
              " 'Im020_ACRIMA.jpg',\n",
              " 'Im021_ACRIMA.jpg',\n",
              " 'Im022_ACRIMA.jpg',\n",
              " 'Im023_ACRIMA.jpg',\n",
              " 'Im024_ACRIMA.jpg',\n",
              " 'Im025_ACRIMA.jpg',\n",
              " 'Im026_ACRIMA.jpg',\n",
              " 'Im027_ACRIMA.jpg',\n",
              " 'Im028_ACRIMA.jpg',\n",
              " 'Im029_ACRIMA.jpg',\n",
              " 'Im030_ACRIMA.jpg',\n",
              " 'Im031_ACRIMA.jpg',\n",
              " 'Im032_ACRIMA.jpg',\n",
              " 'Im033_ACRIMA.jpg',\n",
              " 'Im034_ACRIMA.jpg',\n",
              " 'Im035_ACRIMA.jpg',\n",
              " 'Im036_ACRIMA.jpg',\n",
              " 'Im037_ACRIMA.jpg',\n",
              " 'Im038_ACRIMA.jpg',\n",
              " 'Im039_ACRIMA.jpg',\n",
              " 'Im040_ACRIMA.jpg',\n",
              " 'Im041_ACRIMA.jpg',\n",
              " 'Im042_ACRIMA.jpg',\n",
              " 'Im043_ACRIMA.jpg',\n",
              " 'Im044_ACRIMA.jpg',\n",
              " 'Im045_ACRIMA.jpg',\n",
              " 'Im046_ACRIMA.jpg',\n",
              " 'Im047_ACRIMA.jpg',\n",
              " 'Im048_ACRIMA.jpg',\n",
              " 'Im049_ACRIMA.jpg',\n",
              " 'Im050_ACRIMA.jpg',\n",
              " 'Im051_ACRIMA.jpg',\n",
              " 'Im052_ACRIMA.jpg',\n",
              " 'Im053_ACRIMA.jpg',\n",
              " 'Im054_ACRIMA.jpg',\n",
              " 'Im055_ACRIMA.jpg',\n",
              " 'Im056_ACRIMA.jpg',\n",
              " 'Im057_ACRIMA.jpg',\n",
              " 'Im058_ACRIMA.jpg',\n",
              " 'Im059_ACRIMA.jpg',\n",
              " 'Im060_ACRIMA.jpg',\n",
              " 'Im061_ACRIMA.jpg',\n",
              " 'Im062_ACRIMA.jpg',\n",
              " 'Im063_ACRIMA.jpg',\n",
              " 'Im064_ACRIMA.jpg',\n",
              " 'Im065_ACRIMA.jpg',\n",
              " 'Im066_ACRIMA.jpg',\n",
              " 'Im067_ACRIMA.jpg',\n",
              " 'Im068_ACRIMA.jpg',\n",
              " 'Im069_ACRIMA.jpg',\n",
              " 'Im070_ACRIMA.jpg',\n",
              " 'Im071_ACRIMA.jpg',\n",
              " 'Im072_ACRIMA.jpg',\n",
              " 'Im073_ACRIMA.jpg',\n",
              " 'Im074_ACRIMA.jpg',\n",
              " 'Im075_ACRIMA.jpg',\n",
              " 'Im076_ACRIMA.jpg',\n",
              " 'Im077_ACRIMA.jpg',\n",
              " 'Im078_ACRIMA.jpg',\n",
              " 'Im079_ACRIMA.jpg',\n",
              " 'Im080_ACRIMA.jpg',\n",
              " 'Im081_ACRIMA.jpg',\n",
              " 'Im082_ACRIMA.jpg',\n",
              " 'Im083_ACRIMA.jpg',\n",
              " 'Im084_ACRIMA.jpg',\n",
              " 'Im085_ACRIMA.jpg',\n",
              " 'Im086_ACRIMA.jpg',\n",
              " 'Im087_ACRIMA.jpg',\n",
              " 'Im088_ACRIMA.jpg',\n",
              " 'Im089_ACRIMA.jpg',\n",
              " 'Im090_ACRIMA.jpg',\n",
              " 'Im091_ACRIMA.jpg',\n",
              " 'Im092_ACRIMA.jpg',\n",
              " 'Im093_ACRIMA.jpg',\n",
              " 'Im094_ACRIMA.jpg',\n",
              " 'Im095_ACRIMA.jpg',\n",
              " 'Im096_ACRIMA.jpg',\n",
              " 'Im097_ACRIMA.jpg',\n",
              " 'Im098_ACRIMA.jpg',\n",
              " 'Im099_ACRIMA.jpg',\n",
              " 'Im100_ACRIMA.jpg',\n",
              " 'Im101_ACRIMA.jpg',\n",
              " 'Im102_ACRIMA.jpg',\n",
              " 'Im103_ACRIMA.jpg',\n",
              " 'Im104_ACRIMA.jpg',\n",
              " 'Im105_ACRIMA.jpg',\n",
              " 'Im106_ACRIMA.jpg',\n",
              " 'Im107_ACRIMA.jpg',\n",
              " 'Im108_ACRIMA.jpg',\n",
              " 'Im109_ACRIMA.jpg',\n",
              " 'Im110_ACRIMA.jpg',\n",
              " 'Im111_ACRIMA.jpg',\n",
              " 'Im112_ACRIMA.jpg',\n",
              " 'Im113_ACRIMA.jpg',\n",
              " 'Im114_ACRIMA.jpg',\n",
              " 'Im115_ACRIMA.jpg',\n",
              " 'Im116_ACRIMA.jpg',\n",
              " 'Im117_ACRIMA.jpg',\n",
              " 'Im118_ACRIMA.jpg',\n",
              " 'Im119_ACRIMA.jpg',\n",
              " 'Im120_ACRIMA.jpg',\n",
              " 'Im121_ACRIMA.jpg',\n",
              " 'Im122_ACRIMA.jpg',\n",
              " 'Im123_ACRIMA.jpg',\n",
              " 'Im124_ACRIMA.jpg',\n",
              " 'Im125_ACRIMA.jpg',\n",
              " 'Im126_ACRIMA.jpg',\n",
              " 'Im127_ACRIMA.jpg',\n",
              " 'Im128_ACRIMA.jpg',\n",
              " 'Im129_ACRIMA.jpg',\n",
              " 'Im130_ACRIMA.jpg',\n",
              " 'Im131_ACRIMA.jpg',\n",
              " 'Im132_ACRIMA.jpg',\n",
              " 'Im133_ACRIMA.jpg',\n",
              " 'Im134_ACRIMA.jpg',\n",
              " 'Im135_ACRIMA.jpg',\n",
              " 'Im136_ACRIMA.jpg',\n",
              " 'Im137_ACRIMA.jpg',\n",
              " 'Im138_ACRIMA.jpg',\n",
              " 'Im139_ACRIMA.jpg',\n",
              " 'Im140_ACRIMA.jpg',\n",
              " 'Im141_ACRIMA.jpg',\n",
              " 'Im142_ACRIMA.jpg',\n",
              " 'Im143_ACRIMA.jpg',\n",
              " 'Im144_ACRIMA.jpg',\n",
              " 'Im145_ACRIMA.jpg',\n",
              " 'Im146_ACRIMA.jpg',\n",
              " 'Im147_ACRIMA.jpg',\n",
              " 'Im148_ACRIMA.jpg',\n",
              " 'Im149_ACRIMA.jpg',\n",
              " 'Im150_ACRIMA.jpg',\n",
              " 'Im151_ACRIMA.jpg',\n",
              " 'Im152_ACRIMA.jpg',\n",
              " 'Im153_ACRIMA.jpg',\n",
              " 'Im154_ACRIMA.jpg',\n",
              " 'Im155_ACRIMA.jpg',\n",
              " 'Im156_ACRIMA.jpg',\n",
              " 'Im157_ACRIMA.jpg',\n",
              " 'Im158_ACRIMA.jpg',\n",
              " 'Im159_ACRIMA.jpg',\n",
              " 'Im160_ACRIMA.jpg',\n",
              " 'Im161_ACRIMA.jpg',\n",
              " 'Im162_ACRIMA.jpg',\n",
              " 'Im163_ACRIMA.jpg',\n",
              " 'Im164_ACRIMA.jpg',\n",
              " 'Im165_ACRIMA.jpg',\n",
              " 'Im166_ACRIMA.jpg',\n",
              " 'Im167_ACRIMA.jpg',\n",
              " 'Im168_ACRIMA.jpg',\n",
              " 'Im169_ACRIMA.jpg',\n",
              " 'Im170_ACRIMA.jpg',\n",
              " 'Im171_ACRIMA.jpg',\n",
              " 'Im172_ACRIMA.jpg',\n",
              " 'Im173_ACRIMA.jpg',\n",
              " 'Im174_ACRIMA.jpg',\n",
              " 'Im175_ACRIMA.jpg',\n",
              " 'Im176_ACRIMA.jpg',\n",
              " 'Im177_ACRIMA.jpg',\n",
              " 'Im178_ACRIMA.jpg',\n",
              " 'Im179_ACRIMA.jpg',\n",
              " 'Im180_ACRIMA.jpg',\n",
              " 'Im181_ACRIMA.jpg',\n",
              " 'Im182_ACRIMA.jpg',\n",
              " 'Im183_ACRIMA.jpg',\n",
              " 'Im184_ACRIMA.jpg',\n",
              " 'Im185_ACRIMA.jpg',\n",
              " 'Im186_ACRIMA.jpg',\n",
              " 'Im187_ACRIMA.jpg',\n",
              " 'Im188_ACRIMA.jpg',\n",
              " 'Im189_ACRIMA.jpg',\n",
              " 'Im190_ACRIMA.jpg',\n",
              " 'Im191_ACRIMA.jpg',\n",
              " 'Im192_ACRIMA.jpg',\n",
              " 'Im193_ACRIMA.jpg',\n",
              " 'Im194_ACRIMA.jpg',\n",
              " 'Im195_ACRIMA.jpg',\n",
              " 'Im196_ACRIMA.jpg',\n",
              " 'Im197_ACRIMA.jpg',\n",
              " 'Im198_ACRIMA.jpg',\n",
              " 'Im199_ACRIMA.jpg',\n",
              " 'Im200_ACRIMA.jpg',\n",
              " 'Im201_ACRIMA.jpg',\n",
              " 'Im202_ACRIMA.jpg',\n",
              " 'Im203_ACRIMA.jpg',\n",
              " 'Im204_ACRIMA.jpg',\n",
              " 'Im205_ACRIMA.jpg',\n",
              " 'Im206_ACRIMA.jpg',\n",
              " 'Im207_ACRIMA.jpg',\n",
              " 'Im208_ACRIMA.jpg',\n",
              " 'Im209_ACRIMA.jpg',\n",
              " 'Im210_ACRIMA.jpg',\n",
              " 'Im211_ACRIMA.jpg',\n",
              " 'Im212_ACRIMA.jpg',\n",
              " 'Im213_ACRIMA.jpg',\n",
              " 'Im214_ACRIMA.jpg',\n",
              " 'Im215_ACRIMA.jpg',\n",
              " 'Im216_ACRIMA.jpg',\n",
              " 'Im217_ACRIMA.jpg',\n",
              " 'Im218_ACRIMA.jpg',\n",
              " 'Im219_ACRIMA.jpg',\n",
              " 'Im220_ACRIMA.jpg',\n",
              " 'Im221_ACRIMA.jpg',\n",
              " 'Im222_ACRIMA.jpg',\n",
              " 'Im223_ACRIMA.jpg',\n",
              " 'Im224_ACRIMA.jpg',\n",
              " 'Im225_ACRIMA.jpg',\n",
              " 'Im226_ACRIMA.jpg',\n",
              " 'Im227_ACRIMA.jpg',\n",
              " 'Im228_ACRIMA.jpg',\n",
              " 'Im229_ACRIMA.jpg',\n",
              " 'Im230_ACRIMA.jpg',\n",
              " 'Im231_ACRIMA.jpg',\n",
              " 'Im232_ACRIMA.jpg',\n",
              " 'Im233_ACRIMA.jpg',\n",
              " 'Im234_ACRIMA.jpg',\n",
              " 'Im235_ACRIMA.jpg',\n",
              " 'Im236_ACRIMA.jpg',\n",
              " 'Im237_ACRIMA.jpg',\n",
              " 'Im238_ACRIMA.jpg',\n",
              " 'Im239_ACRIMA.jpg',\n",
              " 'Im240_ACRIMA.jpg',\n",
              " 'Im241_ACRIMA.jpg',\n",
              " 'Im242_ACRIMA.jpg',\n",
              " 'Im243_ACRIMA.jpg',\n",
              " 'Im244_ACRIMA.jpg',\n",
              " 'Im245_ACRIMA.jpg',\n",
              " 'Im246_ACRIMA.jpg',\n",
              " 'Im247_ACRIMA.jpg',\n",
              " 'Im248_ACRIMA.jpg',\n",
              " 'Im249_ACRIMA.jpg',\n",
              " 'Im250_ACRIMA.jpg',\n",
              " 'Im251_ACRIMA.jpg',\n",
              " 'Im252_ACRIMA.jpg',\n",
              " 'Im253_ACRIMA.jpg',\n",
              " 'Im254_ACRIMA.jpg',\n",
              " 'Im255_ACRIMA.jpg',\n",
              " 'Im256_ACRIMA.jpg',\n",
              " 'Im257_ACRIMA.jpg',\n",
              " 'Im258_ACRIMA.jpg',\n",
              " 'Im259_ACRIMA.jpg',\n",
              " 'Im260_ACRIMA.jpg',\n",
              " 'Im261_ACRIMA.jpg',\n",
              " 'Im262_ACRIMA.jpg',\n",
              " 'Im263_ACRIMA.jpg',\n",
              " 'Im264_ACRIMA.jpg',\n",
              " 'Im265_ACRIMA.jpg',\n",
              " 'Im266_ACRIMA.jpg',\n",
              " 'Im267_ACRIMA.jpg',\n",
              " 'Im268_ACRIMA.jpg',\n",
              " 'Im269_ACRIMA.jpg',\n",
              " 'Im270_ACRIMA.jpg',\n",
              " 'Im271_ACRIMA.jpg',\n",
              " 'Im272_ACRIMA.jpg',\n",
              " 'Im273_ACRIMA.jpg',\n",
              " 'Im274_ACRIMA.jpg',\n",
              " 'Im275_ACRIMA.jpg',\n",
              " 'Im276_ACRIMA.jpg',\n",
              " 'Im277_ACRIMA.jpg',\n",
              " 'Im278_ACRIMA.jpg',\n",
              " 'Im279_ACRIMA.jpg',\n",
              " 'Im280_ACRIMA.jpg',\n",
              " 'Im281_ACRIMA.jpg',\n",
              " 'Im282_ACRIMA.jpg',\n",
              " 'Im283_ACRIMA.jpg',\n",
              " 'Im284_ACRIMA.jpg',\n",
              " 'Im285_ACRIMA.jpg',\n",
              " 'Im286_ACRIMA.jpg',\n",
              " 'Im287_ACRIMA.jpg',\n",
              " 'Im288_ACRIMA.jpg',\n",
              " 'Im289_ACRIMA.jpg',\n",
              " 'Im290_ACRIMA.jpg',\n",
              " 'Im291_ACRIMA.jpg',\n",
              " 'Im292_ACRIMA.jpg',\n",
              " 'Im293_ACRIMA.jpg',\n",
              " 'Im294_ACRIMA.jpg',\n",
              " 'Im295_ACRIMA.jpg',\n",
              " 'Im296_ACRIMA.jpg',\n",
              " 'Im297_ACRIMA.jpg',\n",
              " 'Im298_ACRIMA.jpg',\n",
              " 'Im299_ACRIMA.jpg',\n",
              " 'Im300_ACRIMA.jpg',\n",
              " 'Im301_ACRIMA.jpg',\n",
              " 'Im302_ACRIMA.jpg',\n",
              " 'Im303_ACRIMA.jpg',\n",
              " 'Im304_ACRIMA.jpg',\n",
              " 'Im305_ACRIMA.jpg',\n",
              " 'Im306_ACRIMA.jpg',\n",
              " 'Im307_ACRIMA.jpg',\n",
              " 'Im308_ACRIMA.jpg',\n",
              " 'Im309_ACRIMA.jpg',\n",
              " 'Im310_g_ACRIMA.jpg',\n",
              " 'Im311_g_ACRIMA.jpg',\n",
              " 'Im312_g_ACRIMA.jpg',\n",
              " 'Im313_g_ACRIMA.jpg',\n",
              " 'Im314_g_ACRIMA.jpg',\n",
              " 'Im315_g_ACRIMA.jpg',\n",
              " 'Im316_g_ACRIMA.jpg',\n",
              " 'Im317_g_ACRIMA.jpg',\n",
              " 'Im318_g_ACRIMA.jpg',\n",
              " 'Im319_g_ACRIMA.jpg',\n",
              " 'Im320_g_ACRIMA.jpg',\n",
              " 'Im321_g_ACRIMA.jpg',\n",
              " 'Im322_g_ACRIMA.jpg',\n",
              " 'Im323_g_ACRIMA.jpg',\n",
              " 'Im324_g_ACRIMA.jpg',\n",
              " 'Im325_g_ACRIMA.jpg',\n",
              " 'Im326_g_ACRIMA.jpg',\n",
              " 'Im327_g_ACRIMA.jpg',\n",
              " 'Im328_g_ACRIMA.jpg',\n",
              " 'Im329_g_ACRIMA.jpg',\n",
              " 'Im330_g_ACRIMA.jpg',\n",
              " 'Im331_g_ACRIMA.jpg',\n",
              " 'Im332_g_ACRIMA.jpg',\n",
              " 'Im333_g_ACRIMA.jpg',\n",
              " 'Im334_g_ACRIMA.jpg',\n",
              " 'Im335_g_ACRIMA.jpg',\n",
              " 'Im336_g_ACRIMA.jpg',\n",
              " 'Im337_g_ACRIMA.jpg',\n",
              " 'Im338_g_ACRIMA.jpg',\n",
              " 'Im339_g_ACRIMA.jpg',\n",
              " 'Im340_g_ACRIMA.jpg',\n",
              " 'Im341_g_ACRIMA.jpg',\n",
              " 'Im342_g_ACRIMA.jpg',\n",
              " 'Im343_g_ACRIMA.jpg',\n",
              " 'Im344_g_ACRIMA.jpg',\n",
              " 'Im345_g_ACRIMA.jpg',\n",
              " 'Im346_g_ACRIMA.jpg',\n",
              " 'Im347_g_ACRIMA.jpg',\n",
              " 'Im348_g_ACRIMA.jpg',\n",
              " 'Im349_g_ACRIMA.jpg',\n",
              " 'Im350_g_ACRIMA.jpg',\n",
              " 'Im351_g_ACRIMA.jpg',\n",
              " 'Im352_g_ACRIMA.jpg',\n",
              " 'Im353_g_ACRIMA.jpg',\n",
              " 'Im354_g_ACRIMA.jpg',\n",
              " 'Im355_g_ACRIMA.jpg',\n",
              " 'Im356_g_ACRIMA.jpg',\n",
              " 'Im357_g_ACRIMA.jpg',\n",
              " 'Im358_g_ACRIMA.jpg',\n",
              " 'Im359_g_ACRIMA.jpg',\n",
              " 'Im360_g_ACRIMA.jpg',\n",
              " 'Im361_g_ACRIMA.jpg',\n",
              " 'Im362_g_ACRIMA.jpg',\n",
              " 'Im363_g_ACRIMA.jpg',\n",
              " 'Im364_g_ACRIMA.jpg',\n",
              " 'Im365_g_ACRIMA.jpg',\n",
              " 'Im366_g_ACRIMA.jpg',\n",
              " 'Im367_g_ACRIMA.jpg',\n",
              " 'Im368_g_ACRIMA.jpg',\n",
              " 'Im369_g_ACRIMA.jpg',\n",
              " 'Im370_g_ACRIMA.jpg',\n",
              " 'Im371_g_ACRIMA.jpg',\n",
              " 'Im372_g_ACRIMA.jpg',\n",
              " 'Im373_g_ACRIMA.jpg',\n",
              " 'Im374_g_ACRIMA.jpg',\n",
              " 'Im375_g_ACRIMA.jpg',\n",
              " 'Im376_g_ACRIMA.jpg',\n",
              " 'Im377_g_ACRIMA.jpg',\n",
              " 'Im378_g_ACRIMA.jpg',\n",
              " 'Im379_g_ACRIMA.jpg',\n",
              " 'Im380_g_ACRIMA.jpg',\n",
              " 'Im381_g_ACRIMA.jpg',\n",
              " 'Im382_g_ACRIMA.jpg',\n",
              " 'Im383_g_ACRIMA.jpg',\n",
              " 'Im384_g_ACRIMA.jpg',\n",
              " 'Im385_g_ACRIMA.jpg',\n",
              " 'Im386_g_ACRIMA.jpg',\n",
              " 'Im387_g_ACRIMA.jpg',\n",
              " 'Im388_g_ACRIMA.jpg',\n",
              " 'Im389_g_ACRIMA.jpg',\n",
              " 'Im390_g_ACRIMA.jpg',\n",
              " 'Im391_g_ACRIMA.jpg',\n",
              " 'Im392_g_ACRIMA.jpg',\n",
              " 'Im393_g_ACRIMA.jpg',\n",
              " 'Im394_g_ACRIMA.jpg',\n",
              " 'Im395_g_ACRIMA.jpg',\n",
              " 'Im396_g_ACRIMA.jpg',\n",
              " 'Im397_g_ACRIMA.jpg',\n",
              " 'Im398_g_ACRIMA.jpg',\n",
              " 'Im399_g_ACRIMA.jpg',\n",
              " 'Im400_g_ACRIMA.jpg',\n",
              " 'Im401_g_ACRIMA.jpg',\n",
              " 'Im402_g_ACRIMA.jpg',\n",
              " 'Im403_g_ACRIMA.jpg',\n",
              " 'Im404_g_ACRIMA.jpg',\n",
              " 'Im405_g_ACRIMA.jpg',\n",
              " 'Im406_g_ACRIMA.jpg',\n",
              " 'Im407_g_ACRIMA.jpg',\n",
              " 'Im408_g_ACRIMA.jpg',\n",
              " 'Im409_g_ACRIMA.jpg',\n",
              " 'Im410_g_ACRIMA.jpg',\n",
              " 'Im411_g_ACRIMA.jpg',\n",
              " 'Im412_g_ACRIMA.jpg',\n",
              " 'Im413_g_ACRIMA.jpg',\n",
              " 'Im414_g_ACRIMA.jpg',\n",
              " 'Im415_g_ACRIMA.jpg',\n",
              " 'Im416_g_ACRIMA.jpg',\n",
              " 'Im417_g_ACRIMA.jpg',\n",
              " 'Im418_g_ACRIMA.jpg',\n",
              " 'Im419_g_ACRIMA.jpg',\n",
              " 'Im420_g_ACRIMA.jpg',\n",
              " 'Im421_g_ACRIMA.jpg',\n",
              " 'Im422_g_ACRIMA.jpg',\n",
              " 'Im423_g_ACRIMA.jpg',\n",
              " 'Im424_g_ACRIMA.jpg',\n",
              " 'Im425_g_ACRIMA.jpg',\n",
              " 'Im426_g_ACRIMA.jpg',\n",
              " 'Im427_g_ACRIMA.jpg',\n",
              " 'Im428_g_ACRIMA.jpg',\n",
              " 'Im429_g_ACRIMA.jpg',\n",
              " 'Im430_g_ACRIMA.jpg',\n",
              " 'Im431_g_ACRIMA.jpg',\n",
              " 'Im432_g_ACRIMA.jpg',\n",
              " 'Im433_g_ACRIMA.jpg',\n",
              " 'Im434_g_ACRIMA.jpg',\n",
              " 'Im435_g_ACRIMA.jpg',\n",
              " 'Im436_g_ACRIMA.jpg',\n",
              " 'Im437_g_ACRIMA.jpg',\n",
              " 'Im438_g_ACRIMA.jpg',\n",
              " 'Im439_g_ACRIMA.jpg',\n",
              " 'Im440_g_ACRIMA.jpg',\n",
              " 'Im441_g_ACRIMA.jpg',\n",
              " 'Im442_g_ACRIMA.jpg',\n",
              " 'Im443_g_ACRIMA.jpg',\n",
              " 'Im444_g_ACRIMA.jpg',\n",
              " 'Im445_g_ACRIMA.jpg',\n",
              " 'Im446_g_ACRIMA.jpg',\n",
              " 'Im447_g_ACRIMA.jpg',\n",
              " 'Im448_g_ACRIMA.jpg',\n",
              " 'Im449_g_ACRIMA.jpg',\n",
              " 'Im450_g_ACRIMA.jpg',\n",
              " 'Im451_g_ACRIMA.jpg',\n",
              " 'Im452_g_ACRIMA.jpg',\n",
              " 'Im453_g_ACRIMA.jpg',\n",
              " 'Im454_g_ACRIMA.jpg',\n",
              " 'Im455_g_ACRIMA.jpg',\n",
              " 'Im456_g_ACRIMA.jpg',\n",
              " 'Im457_g_ACRIMA.jpg',\n",
              " 'Im458_g_ACRIMA.jpg',\n",
              " 'Im459_g_ACRIMA.jpg',\n",
              " 'Im460_g_ACRIMA.jpg',\n",
              " 'Im461_g_ACRIMA.jpg',\n",
              " 'Im462_g_ACRIMA.jpg',\n",
              " 'Im463_g_ACRIMA.jpg',\n",
              " 'Im464_g_ACRIMA.jpg',\n",
              " 'Im465_g_ACRIMA.jpg',\n",
              " 'Im466_g_ACRIMA.jpg',\n",
              " 'Im467_g_ACRIMA.jpg',\n",
              " 'Im468_g_ACRIMA.jpg',\n",
              " 'Im469_g_ACRIMA.jpg',\n",
              " 'Im470_g_ACRIMA.jpg',\n",
              " 'Im471_g_ACRIMA.jpg',\n",
              " 'Im472_g_ACRIMA.jpg',\n",
              " 'Im473_g_ACRIMA.jpg',\n",
              " 'Im474_g_ACRIMA.jpg',\n",
              " 'Im475_g_ACRIMA.jpg',\n",
              " 'Im476_g_ACRIMA.jpg',\n",
              " 'Im477_g_ACRIMA.jpg',\n",
              " 'Im478_g_ACRIMA.jpg',\n",
              " 'Im479_g_ACRIMA.jpg',\n",
              " 'Im480_g_ACRIMA.jpg',\n",
              " 'Im481_g_ACRIMA.jpg',\n",
              " 'Im482_g_ACRIMA.jpg',\n",
              " 'Im483_g_ACRIMA.jpg',\n",
              " 'Im484_g_ACRIMA.jpg',\n",
              " 'Im485_g_ACRIMA.jpg',\n",
              " 'Im486_g_ACRIMA.jpg',\n",
              " 'Im487_g_ACRIMA.jpg',\n",
              " 'Im488_g_ACRIMA.jpg',\n",
              " 'Im489_g_ACRIMA.jpg',\n",
              " 'Im490_g_ACRIMA.jpg',\n",
              " 'Im491_g_ACRIMA.jpg',\n",
              " 'Im492_g_ACRIMA.jpg',\n",
              " 'Im493_g_ACRIMA.jpg',\n",
              " 'Im494_g_ACRIMA.jpg',\n",
              " 'Im495_g_ACRIMA.jpg',\n",
              " 'Im496_g_ACRIMA.jpg',\n",
              " 'Im497_g_ACRIMA.jpg',\n",
              " 'Im498_g_ACRIMA.jpg',\n",
              " 'Im499_g_ACRIMA.jpg',\n",
              " 'Im500_g_ACRIMA.jpg',\n",
              " 'Im501_g_ACRIMA.jpg',\n",
              " 'Im502_g_ACRIMA.jpg',\n",
              " 'Im503_g_ACRIMA.jpg',\n",
              " 'Im504_g_ACRIMA.jpg',\n",
              " 'Im505_g_ACRIMA.jpg',\n",
              " 'Im506_g_ACRIMA.jpg',\n",
              " 'Im507_g_ACRIMA.jpg',\n",
              " 'Im508_g_ACRIMA.jpg',\n",
              " 'Im509_g_ACRIMA.jpg',\n",
              " 'Im510_g_ACRIMA.jpg',\n",
              " 'Im511_g_ACRIMA.jpg',\n",
              " 'Im512_g_ACRIMA.jpg',\n",
              " 'Im513_g_ACRIMA.jpg',\n",
              " 'Im514_g_ACRIMA.jpg',\n",
              " 'Im515_g_ACRIMA.jpg',\n",
              " 'Im516_g_ACRIMA.jpg',\n",
              " 'Im517_g_ACRIMA.jpg',\n",
              " 'Im518_g_ACRIMA.jpg',\n",
              " 'Im519_g_ACRIMA.jpg',\n",
              " 'Im520_g_ACRIMA.jpg',\n",
              " 'Im521_g_ACRIMA.jpg',\n",
              " 'Im522_g_ACRIMA.jpg',\n",
              " 'Im523_g_ACRIMA.jpg',\n",
              " 'Im524_g_ACRIMA.jpg',\n",
              " 'Im525_g_ACRIMA.jpg',\n",
              " 'Im526_g_ACRIMA.jpg',\n",
              " 'Im527_g_ACRIMA.jpg',\n",
              " 'Im528_g_ACRIMA.jpg',\n",
              " 'Im529_g_ACRIMA.jpg',\n",
              " 'Im530_g_ACRIMA.jpg',\n",
              " 'Im531_g_ACRIMA.jpg',\n",
              " 'Im532_g_ACRIMA.jpg',\n",
              " 'Im533_g_ACRIMA.jpg',\n",
              " 'Im534_g_ACRIMA.jpg',\n",
              " 'Im535_g_ACRIMA.jpg',\n",
              " 'Im536_g_ACRIMA.jpg',\n",
              " 'Im537_g_ACRIMA.jpg',\n",
              " 'Im538_g_ACRIMA.jpg',\n",
              " 'Im539_g_ACRIMA.jpg',\n",
              " 'Im540_g_ACRIMA.jpg',\n",
              " 'Im541_g_ACRIMA.jpg',\n",
              " 'Im542_g_ACRIMA.jpg',\n",
              " 'Im543_g_ACRIMA.jpg',\n",
              " 'Im544_g_ACRIMA.jpg',\n",
              " 'Im545_g_ACRIMA.jpg',\n",
              " 'Im546_g_ACRIMA.jpg',\n",
              " 'Im547_g_ACRIMA.jpg',\n",
              " 'Im548_g_ACRIMA.jpg',\n",
              " 'Im549_g_ACRIMA.jpg',\n",
              " 'Im550_g_ACRIMA.jpg',\n",
              " 'Im551_g_ACRIMA.jpg',\n",
              " 'Im552_g_ACRIMA.jpg',\n",
              " 'Im553_g_ACRIMA.jpg',\n",
              " 'Im554_g_ACRIMA.jpg',\n",
              " 'Im555_g_ACRIMA.jpg',\n",
              " 'Im556_g_ACRIMA.jpg',\n",
              " 'Im557_g_ACRIMA.jpg',\n",
              " 'Im558_g_ACRIMA.jpg',\n",
              " 'Im559_g_ACRIMA.jpg',\n",
              " 'Im560_g_ACRIMA.jpg',\n",
              " 'Im561_g_ACRIMA.jpg',\n",
              " 'Im562_g_ACRIMA.jpg',\n",
              " 'Im563_g_ACRIMA.jpg',\n",
              " 'Im564_g_ACRIMA.jpg',\n",
              " 'Im565_g_ACRIMA.jpg',\n",
              " 'Im566_g_ACRIMA.jpg',\n",
              " 'Im567_g_ACRIMA.jpg',\n",
              " 'Im568_g_ACRIMA.jpg',\n",
              " 'Im569_g_ACRIMA.jpg',\n",
              " 'Im570_g_ACRIMA.jpg',\n",
              " 'Im571_g_ACRIMA.jpg',\n",
              " 'Im572_g_ACRIMA.jpg',\n",
              " 'Im573_g_ACRIMA.jpg',\n",
              " 'Im574_g_ACRIMA.jpg',\n",
              " 'Im575_g_ACRIMA.jpg',\n",
              " 'Im576_g_ACRIMA.jpg',\n",
              " 'Im577_g_ACRIMA.jpg',\n",
              " 'Im578_g_ACRIMA.jpg',\n",
              " 'Im579_g_ACRIMA.jpg',\n",
              " 'Im580_g_ACRIMA.jpg',\n",
              " 'Im581_g_ACRIMA.jpg',\n",
              " 'Im582_g_ACRIMA.jpg',\n",
              " 'Im583_g_ACRIMA.jpg',\n",
              " 'Im584_g_ACRIMA.jpg',\n",
              " 'Im585_g_ACRIMA.jpg',\n",
              " 'Im586_g_ACRIMA.jpg',\n",
              " 'Im587_g_ACRIMA.jpg',\n",
              " 'Im588_g_ACRIMA.jpg',\n",
              " 'Im589_g_ACRIMA.jpg',\n",
              " 'Im590_g_ACRIMA.jpg',\n",
              " 'Im591_g_ACRIMA.jpg',\n",
              " 'Im592_g_ACRIMA.jpg',\n",
              " 'Im593_g_ACRIMA.jpg',\n",
              " 'Im594_g_ACRIMA.jpg',\n",
              " 'Im595_g_ACRIMA.jpg',\n",
              " 'Im596_g_ACRIMA.jpg',\n",
              " 'Im597_g_ACRIMA.jpg',\n",
              " 'Im598_g_ACRIMA.jpg',\n",
              " 'Im599_g_ACRIMA.jpg',\n",
              " 'Im600_g_ACRIMA.jpg',\n",
              " 'Im601_g_ACRIMA.jpg',\n",
              " 'Im602_g_ACRIMA.jpg',\n",
              " 'Im603_g_ACRIMA.jpg',\n",
              " 'Im604_g_ACRIMA.jpg',\n",
              " 'Im605_g_ACRIMA.jpg',\n",
              " 'Im606_g_ACRIMA.jpg',\n",
              " 'Im607_g_ACRIMA.jpg',\n",
              " 'Im608_g_ACRIMA.jpg',\n",
              " 'Im609_g_ACRIMA.jpg',\n",
              " 'Im610_g_ACRIMA.jpg',\n",
              " 'Im611_g_ACRIMA.jpg',\n",
              " 'Im612_g_ACRIMA.jpg',\n",
              " 'Im613_g_ACRIMA.jpg',\n",
              " 'Im614_g_ACRIMA.jpg',\n",
              " 'Im615_g_ACRIMA.jpg',\n",
              " 'Im616_g_ACRIMA.jpg',\n",
              " 'Im617_g_ACRIMA.jpg',\n",
              " 'Im618_g_ACRIMA.jpg',\n",
              " 'Im619_g_ACRIMA.jpg',\n",
              " 'Im620_g_ACRIMA.jpg',\n",
              " 'Im621_g_ACRIMA.jpg',\n",
              " 'Im622_g_ACRIMA.jpg',\n",
              " 'Im623_g_ACRIMA.jpg',\n",
              " 'Im624_g_ACRIMA.jpg',\n",
              " 'Im625_g_ACRIMA.jpg',\n",
              " 'Im626_g_ACRIMA.jpg',\n",
              " 'Im627_g_ACRIMA.jpg',\n",
              " 'Im628_g_ACRIMA.jpg',\n",
              " 'Im629_g_ACRIMA.jpg',\n",
              " 'Im630_g_ACRIMA.jpg',\n",
              " 'Im631_g_ACRIMA.jpg',\n",
              " 'Im632_g_ACRIMA.jpg',\n",
              " 'Im633_g_ACRIMA.jpg',\n",
              " 'Im634_g_ACRIMA.jpg',\n",
              " 'Im635_g_ACRIMA.jpg',\n",
              " 'Im636_g_ACRIMA.jpg',\n",
              " 'Im637_g_ACRIMA.jpg',\n",
              " 'Im638_g_ACRIMA.jpg',\n",
              " 'Im639_g_ACRIMA.jpg',\n",
              " 'Im640_g_ACRIMA.jpg',\n",
              " 'Im641_g_ACRIMA.jpg',\n",
              " 'Im642_g_ACRIMA.jpg',\n",
              " 'Im643_g_ACRIMA.jpg',\n",
              " 'Im644_g_ACRIMA.jpg',\n",
              " 'Im645_g_ACRIMA.jpg',\n",
              " 'Im646_g_ACRIMA.jpg',\n",
              " 'Im647_g_ACRIMA.jpg',\n",
              " 'Im648_g_ACRIMA.jpg',\n",
              " 'Im649_g_ACRIMA.jpg',\n",
              " 'Im650_g_ACRIMA.jpg',\n",
              " 'Im651_g_ACRIMA.jpg',\n",
              " 'Im652_g_ACRIMA.jpg',\n",
              " 'Im653_g_ACRIMA.jpg',\n",
              " 'Im654_g_ACRIMA.jpg',\n",
              " 'Im655_g_ACRIMA.jpg',\n",
              " 'Im656_g_ACRIMA.jpg',\n",
              " 'Im657_g_ACRIMA.jpg',\n",
              " 'Im658_g_ACRIMA.jpg',\n",
              " 'Im659_g_ACRIMA.jpg',\n",
              " 'Im660_g_ACRIMA.jpg',\n",
              " 'Im661_g_ACRIMA.jpg',\n",
              " 'Im662_g_ACRIMA.jpg',\n",
              " 'Im663_g_ACRIMA.jpg',\n",
              " 'Im664_g_ACRIMA.jpg',\n",
              " 'Im665_g_ACRIMA.jpg',\n",
              " 'Im666_g_ACRIMA.jpg',\n",
              " 'Im667_g_ACRIMA.jpg',\n",
              " 'Im668_g_ACRIMA.jpg',\n",
              " 'Im669_g_ACRIMA.jpg',\n",
              " 'Im670_g_ACRIMA.jpg',\n",
              " 'Im671_g_ACRIMA.jpg',\n",
              " 'Im672_g_ACRIMA.jpg',\n",
              " 'Im673_g_ACRIMA.jpg',\n",
              " 'Im674_g_ACRIMA.jpg',\n",
              " 'Im675_g_ACRIMA.jpg',\n",
              " 'Im676_g_ACRIMA.jpg',\n",
              " 'Im677_g_ACRIMA.jpg',\n",
              " 'Im678_g_ACRIMA.jpg',\n",
              " 'Im679_g_ACRIMA.jpg',\n",
              " 'Im680_g_ACRIMA.jpg',\n",
              " 'Im681_g_ACRIMA.jpg',\n",
              " 'Im682_g_ACRIMA.jpg',\n",
              " 'Im683_g_ACRIMA.jpg',\n",
              " 'Im684_g_ACRIMA.jpg',\n",
              " 'Im685_g_ACRIMA.jpg',\n",
              " 'Im686_g_ACRIMA.jpg',\n",
              " 'Im687_g_ACRIMA.jpg',\n",
              " 'Im688_g_ACRIMA.jpg',\n",
              " 'Im689_g_ACRIMA.jpg',\n",
              " 'Im690_g_ACRIMA.jpg',\n",
              " 'Im691_g_ACRIMA.jpg',\n",
              " 'Im692_g_ACRIMA.jpg',\n",
              " 'Im693_g_ACRIMA.jpg',\n",
              " 'Im694_g_ACRIMA.jpg',\n",
              " 'Im695_g_ACRIMA.jpg',\n",
              " 'Im696_g_ACRIMA.jpg',\n",
              " 'Im697_g_ACRIMA.jpg',\n",
              " 'Im698_g_ACRIMA.jpg',\n",
              " 'Im699_g_ACRIMA.jpg',\n",
              " 'Im700_g_ACRIMA.jpg',\n",
              " 'Im701_g_ACRIMA.jpg',\n",
              " 'Im702_g_ACRIMA.JPG',\n",
              " 'Im703_g_ACRIMA.JPG',\n",
              " 'Im704_g_ACRIMA.jpg',\n",
              " 'Im705_g_ACRIMA.jpg']"
            ]
          },
          "metadata": {
            "tags": []
          },
          "execution_count": 6
        }
      ]
    },
    {
      "cell_type": "code",
      "metadata": {
        "id": "VkOQatFiIKPj",
        "colab_type": "code",
        "colab": {
          "base_uri": "https://localhost:8080/",
          "height": 1000
        },
        "outputId": "c046fb25-64d9-4545-9156-46e149dadd91"
      },
      "source": [
        "sorted(os.listdir('/content/Drishti-64x64/GRAY/Glaucoma'))"
      ],
      "execution_count": 7,
      "outputs": [
        {
          "output_type": "execute_result",
          "data": {
            "text/plain": [
              "['Im1.npy',\n",
              " 'Im10.npy',\n",
              " 'Im11.npy',\n",
              " 'Im12.npy',\n",
              " 'Im13.npy',\n",
              " 'Im14.npy',\n",
              " 'Im15.npy',\n",
              " 'Im16.npy',\n",
              " 'Im17.npy',\n",
              " 'Im18.npy',\n",
              " 'Im19.npy',\n",
              " 'Im2.npy',\n",
              " 'Im20.npy',\n",
              " 'Im21.npy',\n",
              " 'Im22.npy',\n",
              " 'Im23.npy',\n",
              " 'Im24.npy',\n",
              " 'Im25.npy',\n",
              " 'Im26.npy',\n",
              " 'Im27.npy',\n",
              " 'Im28.npy',\n",
              " 'Im29.npy',\n",
              " 'Im3.npy',\n",
              " 'Im30.npy',\n",
              " 'Im31.npy',\n",
              " 'Im32.npy',\n",
              " 'Im33.npy',\n",
              " 'Im34.npy',\n",
              " 'Im35.npy',\n",
              " 'Im36.npy',\n",
              " 'Im37.npy',\n",
              " 'Im38.npy',\n",
              " 'Im39.npy',\n",
              " 'Im4.npy',\n",
              " 'Im40.npy',\n",
              " 'Im41.npy',\n",
              " 'Im42.npy',\n",
              " 'Im43.npy',\n",
              " 'Im44.npy',\n",
              " 'Im45.npy',\n",
              " 'Im46.npy',\n",
              " 'Im47.npy',\n",
              " 'Im48.npy',\n",
              " 'Im49.npy',\n",
              " 'Im5.npy',\n",
              " 'Im50.npy',\n",
              " 'Im51.npy',\n",
              " 'Im52.npy',\n",
              " 'Im53.npy',\n",
              " 'Im54.npy',\n",
              " 'Im55.npy',\n",
              " 'Im56.npy',\n",
              " 'Im57.npy',\n",
              " 'Im58.npy',\n",
              " 'Im59.npy',\n",
              " 'Im6.npy',\n",
              " 'Im60.npy',\n",
              " 'Im61.npy',\n",
              " 'Im62.npy',\n",
              " 'Im63.npy',\n",
              " 'Im64.npy',\n",
              " 'Im65.npy',\n",
              " 'Im66.npy',\n",
              " 'Im67.npy',\n",
              " 'Im68.npy',\n",
              " 'Im69.npy',\n",
              " 'Im7.npy',\n",
              " 'Im70.npy',\n",
              " 'Im8.npy',\n",
              " 'Im9.npy']"
            ]
          },
          "metadata": {
            "tags": []
          },
          "execution_count": 7
        }
      ]
    },
    {
      "cell_type": "code",
      "metadata": {
        "id": "NJuS9mkVu8Gl",
        "colab_type": "code",
        "colab": {}
      },
      "source": [
        "import cv2\n",
        "import glob"
      ],
      "execution_count": 8,
      "outputs": []
    },
    {
      "cell_type": "code",
      "metadata": {
        "id": "246tsgdYy8mw",
        "colab_type": "code",
        "colab": {}
      },
      "source": [
        "ACRIMA = [cv2.imread(file,0) for file in glob.glob(\"/content/Database/Images/*.jpg\")]"
      ],
      "execution_count": 9,
      "outputs": []
    },
    {
      "cell_type": "code",
      "metadata": {
        "id": "FUdDchd_zWj3",
        "colab_type": "code",
        "colab": {
          "base_uri": "https://localhost:8080/",
          "height": 145
        },
        "outputId": "b28ff72a-58a3-4e31-9f2b-77e2c7e6f54e"
      },
      "source": [
        "ACRIMA[24]"
      ],
      "execution_count": 10,
      "outputs": [
        {
          "output_type": "execute_result",
          "data": {
            "text/plain": [
              "array([[170, 170, 170, ..., 164, 165, 165],\n",
              "       [170, 170, 170, ..., 163, 164, 163],\n",
              "       [170, 170, 170, ..., 162, 162, 162],\n",
              "       ...,\n",
              "       [185, 186, 188, ..., 156, 155, 158],\n",
              "       [185, 186, 188, ..., 156, 155, 155],\n",
              "       [187, 188, 189, ..., 159, 160, 159]], dtype=uint8)"
            ]
          },
          "metadata": {
            "tags": []
          },
          "execution_count": 10
        }
      ]
    },
    {
      "cell_type": "code",
      "metadata": {
        "id": "J-8w7lv_zYye",
        "colab_type": "code",
        "colab": {
          "base_uri": "https://localhost:8080/",
          "height": 35
        },
        "outputId": "20bf31f8-6d43-453d-e0ef-aebf7034bb20"
      },
      "source": [
        "ACRIMA[17].shape"
      ],
      "execution_count": 11,
      "outputs": [
        {
          "output_type": "execute_result",
          "data": {
            "text/plain": [
              "(406, 406)"
            ]
          },
          "metadata": {
            "tags": []
          },
          "execution_count": 11
        }
      ]
    },
    {
      "cell_type": "code",
      "metadata": {
        "id": "tAsmEhBTzcKG",
        "colab_type": "code",
        "colab": {
          "base_uri": "https://localhost:8080/",
          "height": 35
        },
        "outputId": "bd703dc2-a134-4805-cc4a-7b7e69922fb7"
      },
      "source": [
        "ACRIMA[19].shape"
      ],
      "execution_count": 12,
      "outputs": [
        {
          "output_type": "execute_result",
          "data": {
            "text/plain": [
              "(454, 454)"
            ]
          },
          "metadata": {
            "tags": []
          },
          "execution_count": 12
        }
      ]
    },
    {
      "cell_type": "code",
      "metadata": {
        "id": "R9thbgtdziaJ",
        "colab_type": "code",
        "colab": {
          "base_uri": "https://localhost:8080/",
          "height": 287
        },
        "outputId": "1abd5cfa-7d17-484d-a167-e6ff608b99b7"
      },
      "source": [
        "plt.imshow(ACRIMA[57],cmap='Greys')"
      ],
      "execution_count": 13,
      "outputs": [
        {
          "output_type": "execute_result",
          "data": {
            "text/plain": [
              "<matplotlib.image.AxesImage at 0x7f29c678c7b8>"
            ]
          },
          "metadata": {
            "tags": []
          },
          "execution_count": 13
        },
        {
          "output_type": "display_data",
          "data": {
            "image/png": "[encoded data removed]",
            "text/plain": [
              "<Figure size 432x288 with 1 Axes>"
            ]
          },
          "metadata": {
            "tags": [],
            "needs_background": "light"
          }
        }
      ]
    },
    {
      "cell_type": "code",
      "metadata": {
        "id": "1CDpKIIr9HLs",
        "colab_type": "code",
        "colab": {
          "base_uri": "https://localhost:8080/",
          "height": 35
        },
        "outputId": "0f3b7ac2-ccd0-4ee8-fe48-23d72afcc581"
      },
      "source": [
        "ACRIMA[57].shape"
      ],
      "execution_count": 14,
      "outputs": [
        {
          "output_type": "execute_result",
          "data": {
            "text/plain": [
              "(370, 370)"
            ]
          },
          "metadata": {
            "tags": []
          },
          "execution_count": 14
        }
      ]
    },
    {
      "cell_type": "code",
      "metadata": {
        "id": "gI-pO5MdzsJX",
        "colab_type": "code",
        "colab": {}
      },
      "source": [
        "DRISHTI_G = [np.load(file) for file in glob.glob(\"/content/Drishti-64x64/GRAY/Glaucoma/*.npy\")]"
      ],
      "execution_count": 15,
      "outputs": []
    },
    {
      "cell_type": "code",
      "metadata": {
        "id": "YyShaC621tsJ",
        "colab_type": "code",
        "colab": {}
      },
      "source": [
        "DRISHTI_N = [np.load(file) for file in glob.glob(\"/content/Drishti-64x64/GRAY/Normal/*.npy\")]"
      ],
      "execution_count": 16,
      "outputs": []
    },
    {
      "cell_type": "code",
      "metadata": {
        "id": "eL6y_KpZ0NCi",
        "colab_type": "code",
        "colab": {
          "base_uri": "https://localhost:8080/",
          "height": 35
        },
        "outputId": "c1edf6ff-fd34-426e-d1e1-e9fc7a735e96"
      },
      "source": [
        "DRISHTI_G[12].shape"
      ],
      "execution_count": 17,
      "outputs": [
        {
          "output_type": "execute_result",
          "data": {
            "text/plain": [
              "(64, 64, 64, 1)"
            ]
          },
          "metadata": {
            "tags": []
          },
          "execution_count": 17
        }
      ]
    },
    {
      "cell_type": "code",
      "metadata": {
        "id": "-D8QTqsW1avt",
        "colab_type": "code",
        "colab": {
          "base_uri": "https://localhost:8080/",
          "height": 35
        },
        "outputId": "afa9fdf7-8442-4511-9253-01d946b34c17"
      },
      "source": [
        "DRISHTI_G[4].shape"
      ],
      "execution_count": 18,
      "outputs": [
        {
          "output_type": "execute_result",
          "data": {
            "text/plain": [
              "(64, 64, 64, 1)"
            ]
          },
          "metadata": {
            "tags": []
          },
          "execution_count": 18
        }
      ]
    },
    {
      "cell_type": "code",
      "metadata": {
        "id": "qYu0Eeeup9EF",
        "colab_type": "code",
        "colab": {
          "base_uri": "https://localhost:8080/",
          "height": 35
        },
        "outputId": "9b2a9a60-f0c8-433b-db14-9924cffad4f6"
      },
      "source": [
        "len(ACRIMA)"
      ],
      "execution_count": 19,
      "outputs": [
        {
          "output_type": "execute_result",
          "data": {
            "text/plain": [
              "703"
            ]
          },
          "metadata": {
            "tags": []
          },
          "execution_count": 19
        }
      ]
    },
    {
      "cell_type": "code",
      "metadata": {
        "id": "QL0a2dkv6CnQ",
        "colab_type": "code",
        "colab": {}
      },
      "source": [
        "from skimage.transform import resize, pyramid_reduce\n",
        "\n",
        "\n",
        "def get_square(image, square_size):\n",
        "\n",
        "    height, width = image.shape    \n",
        "    if(height > width):\n",
        "      differ = height\n",
        "    else:\n",
        "      differ = width\n",
        "    differ += 4\n",
        "\n",
        "    mask = np.zeros((differ, differ), dtype = \"uint8\")\n",
        "\n",
        "    x_pos = int((differ - width) / 2)\n",
        "    y_pos = int((differ - height) / 2)\n",
        "\n",
        "    mask[y_pos: y_pos + height, x_pos: x_pos + width] = image[0: height, 0: width]\n",
        "\n",
        "    if differ / square_size > 1:\n",
        "      mask = pyramid_reduce(mask, differ / square_size)\n",
        "    else:\n",
        "      mask = cv2.resize(mask, (square_size, square_size), interpolation = cv2.INTER_AREA)\n",
        "    return mask"
      ],
      "execution_count": 20,
      "outputs": []
    },
    {
      "cell_type": "code",
      "metadata": {
        "id": "f5iYHn4B-O8q",
        "colab_type": "code",
        "colab": {}
      },
      "source": [
        "ACRIMA_512 = []\n",
        "for i in ACRIMA:\n",
        "  ACRIMA_512.append(get_square(i, 512))"
      ],
      "execution_count": 21,
      "outputs": []
    },
    {
      "cell_type": "code",
      "metadata": {
        "id": "p3GtKw0Pm03Q",
        "colab_type": "code",
        "colab": {
          "base_uri": "https://localhost:8080/",
          "height": 35
        },
        "outputId": "bdec813b-28d4-4116-bbb4-1dbe4f2a7ff6"
      },
      "source": [
        "ACRIMA_512[0].shape"
      ],
      "execution_count": 22,
      "outputs": [
        {
          "output_type": "execute_result",
          "data": {
            "text/plain": [
              "(512, 512)"
            ]
          },
          "metadata": {
            "tags": []
          },
          "execution_count": 22
        }
      ]
    },
    {
      "cell_type": "code",
      "metadata": {
        "id": "LVEjeD73rqhZ",
        "colab_type": "code",
        "colab": {}
      },
      "source": [
        "DRISHTI_G_reshaped = []\n",
        "for i in DRISHTI_G:\n",
        "  DRISHTI_G_reshaped.append(np.reshape(i,(512,512)))"
      ],
      "execution_count": 23,
      "outputs": []
    },
    {
      "cell_type": "code",
      "metadata": {
        "id": "CedJeEf5sd79",
        "colab_type": "code",
        "colab": {
          "base_uri": "https://localhost:8080/",
          "height": 35
        },
        "outputId": "4939b014-f819-4e77-8f85-f04ba09e7e44"
      },
      "source": [
        "DRISHTI_G_reshaped[0].shape"
      ],
      "execution_count": 24,
      "outputs": [
        {
          "output_type": "execute_result",
          "data": {
            "text/plain": [
              "(512, 512)"
            ]
          },
          "metadata": {
            "tags": []
          },
          "execution_count": 24
        }
      ]
    },
    {
      "cell_type": "code",
      "metadata": {
        "id": "0ILatQ0ysjJz",
        "colab_type": "code",
        "colab": {}
      },
      "source": [
        "DRISHTI_N_reshaped = []\n",
        "for i in DRISHTI_N:\n",
        "  DRISHTI_N_reshaped.append(np.reshape(i,(512,512)))"
      ],
      "execution_count": 25,
      "outputs": []
    },
    {
      "cell_type": "code",
      "metadata": {
        "id": "Ydt36Rz_sl9_",
        "colab_type": "code",
        "colab": {
          "base_uri": "https://localhost:8080/",
          "height": 35
        },
        "outputId": "124d4083-c0e3-4bfa-d1c4-7089d1b90b80"
      },
      "source": [
        "DRISHTI_N_reshaped[0].shape"
      ],
      "execution_count": 26,
      "outputs": [
        {
          "output_type": "execute_result",
          "data": {
            "text/plain": [
              "(512, 512)"
            ]
          },
          "metadata": {
            "tags": []
          },
          "execution_count": 26
        }
      ]
    },
    {
      "cell_type": "code",
      "metadata": {
        "id": "wrmKb76_suvf",
        "colab_type": "code",
        "colab": {}
      },
      "source": [
        "ACRIMA_512 = np.asarray(ACRIMA_512)\n",
        "DRISHTI_G_reshaped = np.asarray(DRISHTI_G_reshaped)\n",
        "DRISHTI_N_reshaped = np.asarray(DRISHTI_N_reshaped)"
      ],
      "execution_count": 27,
      "outputs": []
    },
    {
      "cell_type": "code",
      "metadata": {
        "id": "S_Kfhm2ruAbC",
        "colab_type": "code",
        "colab": {
          "base_uri": "https://localhost:8080/",
          "height": 72
        },
        "outputId": "75fecbc9-034f-420e-f581-b745f9b40405"
      },
      "source": [
        "print(ACRIMA_512.shape)\n",
        "print(DRISHTI_G_reshaped.shape)\n",
        "print(DRISHTI_N_reshaped.shape)"
      ],
      "execution_count": 28,
      "outputs": [
        {
          "output_type": "stream",
          "text": [
            "(703, 512, 512)\n",
            "(70, 512, 512)\n",
            "(31, 512, 512)\n"
          ],
          "name": "stdout"
        }
      ]
    },
    {
      "cell_type": "code",
      "metadata": {
        "id": "5JtDfakfClKg",
        "colab_type": "code",
        "colab": {
          "base_uri": "https://localhost:8080/",
          "height": 35
        },
        "outputId": "fb8c4913-39c7-412f-ef35-2e37e086b6a3"
      },
      "source": [
        "import numpy as np\n",
        "N = 463\n",
        "K = 341\n",
        "arr = np.array([0] * N + [1] * (K))\n",
        "arr.shape"
      ],
      "execution_count": 29,
      "outputs": [
        {
          "output_type": "execute_result",
          "data": {
            "text/plain": [
              "(804,)"
            ]
          },
          "metadata": {
            "tags": []
          },
          "execution_count": 29
        }
      ]
    },
    {
      "cell_type": "code",
      "metadata": {
        "id": "uWbsljX9F_x6",
        "colab_type": "code",
        "colab": {}
      },
      "source": [
        "ACRIMA_512 = ACRIMA_512/255"
      ],
      "execution_count": 30,
      "outputs": []
    },
    {
      "cell_type": "code",
      "metadata": {
        "id": "cohVQfLYC2a2",
        "colab_type": "code",
        "colab": {}
      },
      "source": [
        "final = np.concatenate((DRISHTI_N_reshaped, ACRIMA_512,DRISHTI_G_reshaped ), axis=0)"
      ],
      "execution_count": 31,
      "outputs": []
    },
    {
      "cell_type": "code",
      "metadata": {
        "id": "10rdy9E0DAOE",
        "colab_type": "code",
        "colab": {
          "base_uri": "https://localhost:8080/",
          "height": 35
        },
        "outputId": "95e35b81-07d5-48ad-c704-92f1ae7d059d"
      },
      "source": [
        "final.shape"
      ],
      "execution_count": 32,
      "outputs": [
        {
          "output_type": "execute_result",
          "data": {
            "text/plain": [
              "(804, 512, 512)"
            ]
          },
          "metadata": {
            "tags": []
          },
          "execution_count": 32
        }
      ]
    },
    {
      "cell_type": "code",
      "metadata": {
        "id": "Qkw2V9wzEDum",
        "colab_type": "code",
        "colab": {}
      },
      "source": [
        "labels = arr"
      ],
      "execution_count": 33,
      "outputs": []
    },
    {
      "cell_type": "code",
      "metadata": {
        "id": "g3mpcL3LMlkg",
        "colab_type": "code",
        "colab": {}
      },
      "source": [
        "from tensorflow.keras.utils import to_categorical\n",
        "labels2 = to_categorical(labels)"
      ],
      "execution_count": 34,
      "outputs": []
    },
    {
      "cell_type": "code",
      "metadata": {
        "id": "xYx9MpIPMr7o",
        "colab_type": "code",
        "colab": {
          "base_uri": "https://localhost:8080/",
          "height": 145
        },
        "outputId": "a013c6eb-1e3b-4b02-f7d8-96f73929a350"
      },
      "source": [
        "labels2"
      ],
      "execution_count": 35,
      "outputs": [
        {
          "output_type": "execute_result",
          "data": {
            "text/plain": [
              "array([[1., 0.],\n",
              "       [1., 0.],\n",
              "       [1., 0.],\n",
              "       ...,\n",
              "       [0., 1.],\n",
              "       [0., 1.],\n",
              "       [0., 1.]], dtype=float32)"
            ]
          },
          "metadata": {
            "tags": []
          },
          "execution_count": 35
        }
      ]
    },
    {
      "cell_type": "code",
      "metadata": {
        "id": "cfkPdG_tMuay",
        "colab_type": "code",
        "colab": {
          "base_uri": "https://localhost:8080/",
          "height": 695
        },
        "outputId": "d066352b-33df-4ad4-ae02-59984891c03b"
      },
      "source": [
        "labels"
      ],
      "execution_count": 36,
      "outputs": [
        {
          "output_type": "execute_result",
          "data": {
            "text/plain": [
              "array([0, 0, 0, 0, 0, 0, 0, 0, 0, 0, 0, 0, 0, 0, 0, 0, 0, 0, 0, 0, 0, 0,\n",
              "       0, 0, 0, 0, 0, 0, 0, 0, 0, 0, 0, 0, 0, 0, 0, 0, 0, 0, 0, 0, 0, 0,\n",
              "       0, 0, 0, 0, 0, 0, 0, 0, 0, 0, 0, 0, 0, 0, 0, 0, 0, 0, 0, 0, 0, 0,\n",
              "       0, 0, 0, 0, 0, 0, 0, 0, 0, 0, 0, 0, 0, 0, 0, 0, 0, 0, 0, 0, 0, 0,\n",
              "       0, 0, 0, 0, 0, 0, 0, 0, 0, 0, 0, 0, 0, 0, 0, 0, 0, 0, 0, 0, 0, 0,\n",
              "       0, 0, 0, 0, 0, 0, 0, 0, 0, 0, 0, 0, 0, 0, 0, 0, 0, 0, 0, 0, 0, 0,\n",
              "       0, 0, 0, 0, 0, 0, 0, 0, 0, 0, 0, 0, 0, 0, 0, 0, 0, 0, 0, 0, 0, 0,\n",
              "       0, 0, 0, 0, 0, 0, 0, 0, 0, 0, 0, 0, 0, 0, 0, 0, 0, 0, 0, 0, 0, 0,\n",
              "       0, 0, 0, 0, 0, 0, 0, 0, 0, 0, 0, 0, 0, 0, 0, 0, 0, 0, 0, 0, 0, 0,\n",
              "       0, 0, 0, 0, 0, 0, 0, 0, 0, 0, 0, 0, 0, 0, 0, 0, 0, 0, 0, 0, 0, 0,\n",
              "       0, 0, 0, 0, 0, 0, 0, 0, 0, 0, 0, 0, 0, 0, 0, 0, 0, 0, 0, 0, 0, 0,\n",
              "       0, 0, 0, 0, 0, 0, 0, 0, 0, 0, 0, 0, 0, 0, 0, 0, 0, 0, 0, 0, 0, 0,\n",
              "       0, 0, 0, 0, 0, 0, 0, 0, 0, 0, 0, 0, 0, 0, 0, 0, 0, 0, 0, 0, 0, 0,\n",
              "       0, 0, 0, 0, 0, 0, 0, 0, 0, 0, 0, 0, 0, 0, 0, 0, 0, 0, 0, 0, 0, 0,\n",
              "       0, 0, 0, 0, 0, 0, 0, 0, 0, 0, 0, 0, 0, 0, 0, 0, 0, 0, 0, 0, 0, 0,\n",
              "       0, 0, 0, 0, 0, 0, 0, 0, 0, 0, 0, 0, 0, 0, 0, 0, 0, 0, 0, 0, 0, 0,\n",
              "       0, 0, 0, 0, 0, 0, 0, 0, 0, 0, 0, 0, 0, 0, 0, 0, 0, 0, 0, 0, 0, 0,\n",
              "       0, 0, 0, 0, 0, 0, 0, 0, 0, 0, 0, 0, 0, 0, 0, 0, 0, 0, 0, 0, 0, 0,\n",
              "       0, 0, 0, 0, 0, 0, 0, 0, 0, 0, 0, 0, 0, 0, 0, 0, 0, 0, 0, 0, 0, 0,\n",
              "       0, 0, 0, 0, 0, 0, 0, 0, 0, 0, 0, 0, 0, 0, 0, 0, 0, 0, 0, 0, 0, 0,\n",
              "       0, 0, 0, 0, 0, 0, 0, 0, 0, 0, 0, 0, 0, 0, 0, 0, 0, 0, 0, 0, 0, 0,\n",
              "       0, 1, 1, 1, 1, 1, 1, 1, 1, 1, 1, 1, 1, 1, 1, 1, 1, 1, 1, 1, 1, 1,\n",
              "       1, 1, 1, 1, 1, 1, 1, 1, 1, 1, 1, 1, 1, 1, 1, 1, 1, 1, 1, 1, 1, 1,\n",
              "       1, 1, 1, 1, 1, 1, 1, 1, 1, 1, 1, 1, 1, 1, 1, 1, 1, 1, 1, 1, 1, 1,\n",
              "       1, 1, 1, 1, 1, 1, 1, 1, 1, 1, 1, 1, 1, 1, 1, 1, 1, 1, 1, 1, 1, 1,\n",
              "       1, 1, 1, 1, 1, 1, 1, 1, 1, 1, 1, 1, 1, 1, 1, 1, 1, 1, 1, 1, 1, 1,\n",
              "       1, 1, 1, 1, 1, 1, 1, 1, 1, 1, 1, 1, 1, 1, 1, 1, 1, 1, 1, 1, 1, 1,\n",
              "       1, 1, 1, 1, 1, 1, 1, 1, 1, 1, 1, 1, 1, 1, 1, 1, 1, 1, 1, 1, 1, 1,\n",
              "       1, 1, 1, 1, 1, 1, 1, 1, 1, 1, 1, 1, 1, 1, 1, 1, 1, 1, 1, 1, 1, 1,\n",
              "       1, 1, 1, 1, 1, 1, 1, 1, 1, 1, 1, 1, 1, 1, 1, 1, 1, 1, 1, 1, 1, 1,\n",
              "       1, 1, 1, 1, 1, 1, 1, 1, 1, 1, 1, 1, 1, 1, 1, 1, 1, 1, 1, 1, 1, 1,\n",
              "       1, 1, 1, 1, 1, 1, 1, 1, 1, 1, 1, 1, 1, 1, 1, 1, 1, 1, 1, 1, 1, 1,\n",
              "       1, 1, 1, 1, 1, 1, 1, 1, 1, 1, 1, 1, 1, 1, 1, 1, 1, 1, 1, 1, 1, 1,\n",
              "       1, 1, 1, 1, 1, 1, 1, 1, 1, 1, 1, 1, 1, 1, 1, 1, 1, 1, 1, 1, 1, 1,\n",
              "       1, 1, 1, 1, 1, 1, 1, 1, 1, 1, 1, 1, 1, 1, 1, 1, 1, 1, 1, 1, 1, 1,\n",
              "       1, 1, 1, 1, 1, 1, 1, 1, 1, 1, 1, 1, 1, 1, 1, 1, 1, 1, 1, 1, 1, 1,\n",
              "       1, 1, 1, 1, 1, 1, 1, 1, 1, 1, 1, 1])"
            ]
          },
          "metadata": {
            "tags": []
          },
          "execution_count": 36
        }
      ]
    },
    {
      "cell_type": "code",
      "metadata": {
        "id": "JYUCxDzyESA9",
        "colab_type": "code",
        "colab": {}
      },
      "source": [
        "from sklearn.model_selection import train_test_split"
      ],
      "execution_count": 37,
      "outputs": []
    },
    {
      "cell_type": "code",
      "metadata": {
        "id": "sJ8-ReUwETzy",
        "colab_type": "code",
        "colab": {}
      },
      "source": [
        "X_train, X_val, y_train, y_val = train_test_split(final,labels2, test_size=0.33, random_state=42)"
      ],
      "execution_count": 38,
      "outputs": []
    },
    {
      "cell_type": "code",
      "metadata": {
        "id": "f-pL3LIBE9u6",
        "colab_type": "code",
        "colab": {
          "base_uri": "https://localhost:8080/",
          "height": 90
        },
        "outputId": "b1fecade-b3b4-4c90-e32b-e8a5635bd2ed"
      },
      "source": [
        "print(X_train.shape)\n",
        "print(X_val.shape)\n",
        "print(y_train.shape)\n",
        "print(y_val.shape)"
      ],
      "execution_count": 39,
      "outputs": [
        {
          "output_type": "stream",
          "text": [
            "(538, 512, 512)\n",
            "(266, 512, 512)\n",
            "(538, 2)\n",
            "(266, 2)\n"
          ],
          "name": "stdout"
        }
      ]
    },
    {
      "cell_type": "code",
      "metadata": {
        "id": "0ablSKWQGK7G",
        "colab_type": "code",
        "colab": {}
      },
      "source": [
        "from tensorflow.keras.models import Sequential\n",
        "from tensorflow.keras.layers import Dense, Conv2D, MaxPool2D, Flatten, Dropout, BatchNormalization\n",
        "from tensorflow.keras.callbacks import EarlyStopping"
      ],
      "execution_count": 61,
      "outputs": []
    },
    {
      "cell_type": "code",
      "metadata": {
        "id": "1oaduMX8_AqA",
        "colab_type": "code",
        "colab": {}
      },
      "source": [
        "from tensorflow import keras"
      ],
      "execution_count": 66,
      "outputs": []
    },
    {
      "cell_type": "code",
      "metadata": {
        "id": "foKSLZ5uGX9z",
        "colab_type": "code",
        "colab": {}
      },
      "source": [
        "X_train=X_train.reshape(538,512,512,1)\n",
        "X_val=X_val.reshape(266,512,512,1)"
      ],
      "execution_count": 41,
      "outputs": []
    },
    {
      "cell_type": "code",
      "metadata": {
        "id": "xKIvQFc1HqvU",
        "colab_type": "code",
        "colab": {
          "base_uri": "https://localhost:8080/",
          "height": 35
        },
        "outputId": "b6f90106-7cc3-45d9-dbf9-6929030c45ee"
      },
      "source": [
        "X_train.shape"
      ],
      "execution_count": 42,
      "outputs": [
        {
          "output_type": "execute_result",
          "data": {
            "text/plain": [
              "(538, 512, 512, 1)"
            ]
          },
          "metadata": {
            "tags": []
          },
          "execution_count": 42
        }
      ]
    },
    {
      "cell_type": "code",
      "metadata": {
        "id": "aLgPKrZPGOCe",
        "colab_type": "code",
        "colab": {
          "base_uri": "https://localhost:8080/",
          "height": 530
        },
        "outputId": "b84cfaa0-aa8c-4f3b-f71c-767e3b4c2e45"
      },
      "source": [
        "model = Sequential()\n",
        "\n",
        "model.add(Conv2D(filters=32,kernel_size=(4,4),strides=(1,1),padding=\"valid\", input_shape=(512,512,1),activation='relu'))\n",
        "model.add(Dropout(0.5))\n",
        "model.add(MaxPool2D(pool_size=(2,2)))\n",
        "\n",
        "model.add(Conv2D(filters=64,kernel_size=(4,4),strides=(1,1),padding=\"valid\", input_shape=(512,512,1),activation='relu'))\n",
        "model.add(Dropout(0.5))\n",
        "model.add(MaxPool2D(pool_size=(2,2)))\n",
        "\n",
        "\n",
        "model.add(Flatten())\n",
        "\n",
        "model.add(Dense(64,activation='relu'))\n",
        "model.add(Dropout(0.5))\n",
        "\n",
        "#OUTPUT LAYER\n",
        "model.add(Dense(2,activation='softmax')) \n",
        "\n",
        "\n",
        "model.compile(loss='categorical_crossentropy',optimizer='adam',metrics=['accuracy'])\n",
        "\n",
        "model.summary()"
      ],
      "execution_count": 71,
      "outputs": [
        {
          "output_type": "stream",
          "text": [
            "Model: \"sequential_7\"\n",
            "_________________________________________________________________\n",
            "Layer (type)                 Output Shape              Param #   \n",
            "=================================================================\n",
            "conv2d_14 (Conv2D)           (None, 509, 509, 32)      544       \n",
            "_________________________________________________________________\n",
            "dropout_19 (Dropout)         (None, 509, 509, 32)      0         \n",
            "_________________________________________________________________\n",
            "max_pooling2d_13 (MaxPooling (None, 254, 254, 32)      0         \n",
            "_________________________________________________________________\n",
            "conv2d_15 (Conv2D)           (None, 251, 251, 64)      32832     \n",
            "_________________________________________________________________\n",
            "dropout_20 (Dropout)         (None, 251, 251, 64)      0         \n",
            "_________________________________________________________________\n",
            "max_pooling2d_14 (MaxPooling (None, 125, 125, 64)      0         \n",
            "_________________________________________________________________\n",
            "flatten_6 (Flatten)          (None, 1000000)           0         \n",
            "_________________________________________________________________\n",
            "dense_12 (Dense)             (None, 64)                64000064  \n",
            "_________________________________________________________________\n",
            "dropout_21 (Dropout)         (None, 64)                0         \n",
            "_________________________________________________________________\n",
            "dense_13 (Dense)             (None, 2)                 130       \n",
            "=================================================================\n",
            "Total params: 64,033,570\n",
            "Trainable params: 64,033,570\n",
            "Non-trainable params: 0\n",
            "_________________________________________________________________\n"
          ],
          "name": "stdout"
        }
      ]
    },
    {
      "cell_type": "code",
      "metadata": {
        "id": "iBdWsyG1_hMa",
        "colab_type": "code",
        "colab": {}
      },
      "source": [
        "from keras.preprocessing.image import ImageDataGenerator\n",
        "\n",
        "datagen = ImageDataGenerator(zoom_range=0.2, horizontal_flip=True, vertical_flip=True,\n",
        "                            fill_mode='constant', cval=0.)\n",
        "\n",
        "train_gen = datagen.flow(X_train, y_train, batch_size=32)"
      ],
      "execution_count": 73,
      "outputs": []
    },
    {
      "cell_type": "code",
      "metadata": {
        "id": "UdXGOZEZH6D6",
        "colab_type": "code",
        "colab": {}
      },
      "source": [
        "from tensorflow.keras.callbacks import EarlyStopping  "
      ],
      "execution_count": 68,
      "outputs": []
    },
    {
      "cell_type": "code",
      "metadata": {
        "id": "E5DhQwElGQH9",
        "colab_type": "code",
        "colab": {}
      },
      "source": [
        "early_stop = EarlyStopping(monitor = 'val_loss',patience=2)"
      ],
      "execution_count": 69,
      "outputs": []
    },
    {
      "cell_type": "code",
      "metadata": {
        "id": "KA8vf_jT_nsq",
        "colab_type": "code",
        "colab": {
          "base_uri": "https://localhost:8080/",
          "height": 164
        },
        "outputId": "62b29b13-3bfd-45ac-e00b-a6518a3869aa"
      },
      "source": [
        "history = model.fit_generator(train_gen, epochs=15,\n",
        "                              verbose=1, validation_data=(X_val,y_val),\n",
        "                              callbacks=[early_stop])"
      ],
      "execution_count": 76,
      "outputs": [
        {
          "output_type": "stream",
          "text": [
            "Epoch 1/15\n",
            "17/17 [==============================] - 11s 623ms/step - loss: 0.6835 - accuracy: 0.5743 - val_loss: 0.6595 - val_accuracy: 0.6504\n",
            "Epoch 2/15\n",
            "17/17 [==============================] - 10s 609ms/step - loss: 0.6794 - accuracy: 0.5818 - val_loss: 0.6541 - val_accuracy: 0.6504\n",
            "Epoch 3/15\n",
            "17/17 [==============================] - 10s 617ms/step - loss: 0.6801 - accuracy: 0.5855 - val_loss: 0.6557 - val_accuracy: 0.6466\n",
            "Epoch 4/15\n",
            "17/17 [==============================] - 10s 616ms/step - loss: 0.6804 - accuracy: 0.5929 - val_loss: 0.6542 - val_accuracy: 0.6504\n"
          ],
          "name": "stdout"
        }
      ]
    }
  ]
}